{
 "cells": [
  {
   "cell_type": "code",
   "execution_count": 10,
   "metadata": {},
   "outputs": [],
   "source": [
    "import ModuloHartree as mh\n",
    "import matplotlib.pyplot as plt\n",
    "from numpy import eye, linalg, arange, sqrt, diag, sin, pi, linspace, heaviside, sum as npsum, multiply, conjugate, real, array, zeros, copy, var, std "
   ]
  },
  {
   "cell_type": "code",
   "execution_count": 11,
   "metadata": {},
   "outputs": [],
   "source": [
    "L = 800  # tamanho do sistema \n",
    "# parametros do poco (GaAs)\n",
    "xmin_poco = 0.25 * L #a.u. parede do poço\n",
    "xmax_poco = 0.75 * L #a.u. parede do poço\n",
    "V_0_poco = 0.01 #a.u. profundidade do poço quadrado\n",
    "# V_0_poco = 0.08 #a.u. profundidade do poço quadrado\n",
    "\n",
    "# parametros do tempero\n",
    "f = 0.1\n",
    "\n",
    "# parâmetros de convergência\n",
    "epsilon = 0.0001 \n",
    "\n",
    "# # dopagem (0 representa o fundo do poço)\n",
    "# mu = 0.005\n",
    "\n",
    "# DISCRETIZAÇÃO E INTERVALO ABSCISSAS\n",
    "M = 250 # Número para ajustar N <IMPORTANTE>\n",
    "# Mlin = 3*M + 2 #Número para ajustar N <IMPORTANTE>\n",
    "N= 4*M + 3 #Numero de pontos na rede\n",
    "dx = L/(N+1)  # discretização> dx = L/N+1 => N = (L/dx) - 1\n",
    "x = arange(1, N+1)*dx\n",
    "\n",
    "# parametros iniciais no ciclo de autoconsistência\n",
    "V_h_inicial = zeros(N)\n",
    "n_3d_loop = zeros(N)"
   ]
  },
  {
   "cell_type": "code",
   "execution_count": 12,
   "metadata": {},
   "outputs": [],
   "source": [
    "V_poco_quadrado_finito = mh.poco_quadrado_finito(V_0_poco, xmin_poco, xmax_poco, x)"
   ]
  },
  {
   "cell_type": "code",
   "execution_count": 14,
   "metadata": {},
   "outputs": [
    {
     "data": {
      "image/png": "[encoded data removed]",
      "text/plain": [
       "<Figure size 432x288 with 1 Axes>"
      ]
     },
     "metadata": {
      "needs_background": "light"
     },
     "output_type": "display_data"
    }
   ],
   "source": [
    "plt.plot(x, V_poco_quadrado_finito)\n",
    "plt.show()"
   ]
  },
  {
   "cell_type": "code",
   "execution_count": null,
   "metadata": {},
   "outputs": [],
   "source": []
  }
 ],
 "metadata": {
  "interpreter": {
   "hash": "63fd5069d213b44bf678585dea6b12cceca9941eaf7f819626cde1f2670de90d"
  },
  "kernelspec": {
   "display_name": "Python 3.9.6 64-bit",
   "name": "python3"
  },
  "language_info": {
   "codemirror_mode": {
    "name": "ipython",
    "version": 3
   },
   "file_extension": ".py",
   "mimetype": "text/x-python",
   "name": "python",
   "nbconvert_exporter": "python",
   "pygments_lexer": "ipython3",
   "version": "3.9.6"
  },
  "orig_nbformat": 4
 },
 "nbformat": 4,
 "nbformat_minor": 2
}
