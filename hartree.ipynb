{
 "cells": [
  {
   "cell_type": "code",
   "execution_count": null,
   "metadata": {},
   "outputs": [],
   "source": [
    "from numpy import eye, linalg, arange, sqrt, diag, sin, pi, linspace, heaviside, sum as npsum, multiply, conjugate, real, array, zeros, copy, var, std\n",
    "import matplotlib.pyplot as plt"
   ]
  },
  {
   "cell_type": "code",
   "execution_count": null,
   "metadata": {},
   "outputs": [],
   "source": [
    "# funcaozinha para inserir o range do eixo x, autovalores, autovetores e o numero de energias desejado na visualização; possivel inserir potencial para plotar junto\n",
    "def plotEnPsi_finite_diff(x_values, en, psi, n, scale,ymin,ymax,xmin=0, xmax=800, potential=0):\n",
    "    spot_size=1\n",
    "    plt.scatter(x_values, potential, c=\"C1140\", s=spot_size)\n",
    "    for j in range(n):\n",
    "        plt.hlines(\n",
    "            en[j],\n",
    "            xmin=x_values[0],\n",
    "            xmax=x_values[-1],\n",
    "            colors=\"C\" + str(j),\n",
    "            linestyles=\"--\",\n",
    "        )\n",
    "        plt.scatter(x_values, en[j] + scale * psi[:, j],  c=\"C\" + str(j), s=spot_size)\n",
    "        y_min, y_max = (ymin, ymax)\n",
    "        plt.ylim(y_min, y_max)\n",
    "        x_min, x_max = (xmin, xmax)\n",
    "        plt.xlim(x_min, x_max)\n",
    "    plt.show()"
   ]
  },
  {
   "cell_type": "code",
   "execution_count": null,
   "metadata": {},
   "outputs": [],
   "source": [
    "n_2dmu = []"
   ]
  },
  {
   "cell_type": "code",
   "execution_count": null,
   "metadata": {},
   "outputs": [],
   "source": [
    "# PARAMETROS DO SISTEMA\n",
    "h_bar=1 #planck reduzida\n",
    "m = 0.067 #massa efetiva para GaAs na eq. de Schrödinger\n",
    "# L = 100  # tamanho do sistema \n",
    "# FIXME>> diminuir sistema?\n",
    "L = 800  # tamanho do sistema \n",
    "Ry = 26 #eV é a unidade de Energia\n",
    "a0 = 0.05 #nm é a unidade de distância\n",
    "h_bar2_m0 = Ry * a0**2\n",
    "e2 = Ry * a0\n",
    "k = 13 #constante dielétrica na eq. de Poisson\n",
    "n2D = 5*10**(-5) #a.u. densidade experimentais\n",
    "\n",
    "# parametros do poco (GaAs)\n",
    "xmin_poco = 0.25 * L #a.u. parede do poço\n",
    "xmax_poco = 0.75 * L #a.u. parede do poço\n",
    "V_0_poco = 0.01 #a.u. profundidade do poço quadrado\n",
    "# V_0_poco = 0.08 #a.u. profundidade do poço quadrado\n",
    "\n",
    "# parametros do tempero\n",
    "f = 0.1\n",
    "\n",
    "# parâmetros de convergência\n",
    "epsilon = 0.0001 \n",
    "\n",
    "# # dopagem (0 representa o fundo do poço)\n",
    "# mu = 0.005\n",
    "\n",
    "# DISCRETIZAÇÃO E INTERVALO ABSCISSAS\n",
    "M = 250 # Número para ajustar N <IMPORTANTE>\n",
    "# Mlin = 3*M + 2 #Número para ajustar N <IMPORTANTE>\n",
    "N= 4*M + 3 #Numero de pontos na rede\n",
    "dx = L/(N+1)  # discretização> dx = L/N+1 => N = (L/dx) - 1\n",
    "x = arange(1, N+1)*dx\n",
    "\n",
    "# parametros iniciais no ciclo de autoconsistência\n",
    "V_h_inicial = zeros(N)\n",
    "n_3d_loop = zeros(N)"
   ]
  },
  {
   "cell_type": "code",
   "execution_count": null,
   "metadata": {},
   "outputs": [],
   "source": [
    "n_points=100\n",
    "dmu = ((2/3)*V_0_poco)/n_points  # discretização> dx = L/N+1 => N = (L/dx) - 1\n",
    "mu_x = arange(1, n_points-1)*dmu + 0.00037 #<< L=800, V0=0.01\n",
    "# mu_x = arange(1, n_points-1)*dmu + 0.03 #<< L=100, V0=0.08\n",
    "# dopagem (0 representa o fundo do poço)\n",
    "# mu = mu_x[9] # 0, 1, 2, 3, 4, 5, 6, 7, 8, 9\n",
    "# mu_x = mu_x[:50]\n",
    "# para ver a convergência da energia\n",
    "enrg_inte_1 = []\n",
    "enrg_inte_2 = []"
   ]
  },
  {
   "cell_type": "code",
   "execution_count": null,
   "metadata": {},
   "outputs": [],
   "source": [
    "# LAPLACIANO 1D DISCRETIZADO\n",
    "laplaciano = lambda dx,N: -(1 / (dx ** 2)) * (2 * eye(N) - eye(N, k=-1) - eye(N, k=1))\n",
    "energia_cinetica = lambda m: -(0.5/m)*laplaciano(dx,N)"
   ]
  },
  {
   "cell_type": "code",
   "execution_count": null,
   "metadata": {},
   "outputs": [],
   "source": [
    "# DEFINIÇÃO DO POTENCIAL ESTRUTURAL\n",
    "poco_quadrado_finito = (\n",
    "    lambda profundidade, xmin, xmax, x: -profundidade\n",
    "    * heaviside(  # somar profundidade apenas para deixar o fundo do poço = 0\n",
    "        x - xmin, 1\n",
    "    )\n",
    "    * heaviside(xmax - x, 1)\n",
    "    + profundidade\n",
    ")   "
   ]
  },
  {
   "cell_type": "code",
   "execution_count": null,
   "metadata": {},
   "outputs": [],
   "source": [
    "# POTENCIAIS\n",
    "# scale = 2\n",
    "V_poco_quadrado_finito = poco_quadrado_finito(\n",
    "    profundidade=V_0_poco, xmin=xmin_poco, xmax=xmax_poco, x=x\n",
    ")\n",
    "def V_hartree(n_3d, k, dx, N, x):\n",
    "  L=int(dx*(N+1)) \n",
    "  V_antes = linalg.solve(laplaciano(dx, N), (-4*pi/k)*n_3d)\n",
    "  alpha = (V_antes[int((N-3)/4)] - V_antes[int(((3*N)-1)/4)])/(.5*L)\n",
    "  beta = - V_antes[int((N-3)/4)]\n",
    "  # x = arange(1, N+1)*dx\n",
    "  reta_correcao = alpha*(x-(L/4)) + beta\n",
    "  return V_antes + reta_correcao # V_hartree com as bordas sempre em V=0 !!\n",
    "  \n",
    "V_hartree_temperado = lambda tempero, V_1, V_3: f*V_3 + (1-f)*V_1\n",
    "V_total = lambda V_estrutural, V_interacao: V_estrutural + V_interacao \n",
    "plt.scatter(x, V_poco_quadrado_finito)\n",
    "# plt.xlim(399,401)\n",
    "plt.show()\n"
   ]
  },
  {
   "cell_type": "code",
   "execution_count": null,
   "metadata": {},
   "outputs": [],
   "source": [
    "# E0_mu (soma de níveis ocupados)\n",
    "E0_mu = lambda mu, E0_list: npsum(E0_list, where=E0_list<=mu)\n",
    "# Numero de níveis ocupados \n",
    "N_levels = lambda mu, E0_list: npsum(E0_list<=mu)\n",
    "# D.O.L 3D\n",
    "def n_3d(phi_list, E0_list, mu, m): \n",
    "  vectors = array([(m*(mu-E0_list[j])/(2*pi*(h_bar**2)))*(conjugate(phi_list[j])*phi_list[j]) for j in range(N_levels(mu, E0_list))])\n",
    "  if N_levels(mu, E0_list) > 1:\n",
    "    return npsum(vectors, axis=0)\n",
    "  elif N_levels(mu, E0_list) == 1:\n",
    "    return vectors[0]\n",
    "  return zeros(N)\n",
    "# D.O.L 2D\n",
    "n_2d_params = lambda mu, m, E0_list: [npsum(E0_list<=mu)*m/(2*pi*(h_bar**2)),-E0_mu(mu, E0_list)*m/(2*pi*(h_bar**2))] #retorna os coeficientes linear e angular, n_2d_params[0]==a e n_2d_params[1]==b"
   ]
  },
  {
   "cell_type": "code",
   "execution_count": null,
   "metadata": {},
   "outputs": [],
   "source": [
    "# O HAMILTONIANO\n",
    "H = lambda V_efetivo, m: energia_cinetica(m) + diag(\n",
    "    V_efetivo\n",
    ")"
   ]
  },
  {
   "cell_type": "code",
   "execution_count": null,
   "metadata": {},
   "outputs": [],
   "source": [
    "# Primeira vez que foi executado o programa:\n",
    "V_1 = V_h_inicial\n",
    "V_3 = V_hartree(n_3d_loop, k, dx, N, x)\n",
    "V_temperado = V_hartree_temperado(0, V_1, V_3)\n",
    "V_efetivo = V_total(V_poco_quadrado_finito, V_temperado)\n",
    "# diagonalização\n",
    "E0_list, phi_list = linalg.eigh(H(V_efetivo, m))\n",
    "E0_poco = copy(E0_list)\n",
    "lista_N_ocupados = []\n",
    "lista_energias = []\n",
    "for mu in mu_x:\n",
    "    N_antes = N_levels(mu, E0_poco)\n",
    "    print(\"Numero de niveis ocupados antes do loop\", N_antes)\n",
    "    # print(\"Energias ocupadas antes do loop\", E0_poco[:N_ocupados])\n",
    "\n",
    "    # teste de consistência para ver as energias do poço\n",
    "    # plotEnPsi_finite_diff(x, E0_poco, phi_list, N_ocupados, 0.05,0, 0.02, V_efetivo)\n",
    "\n",
    "    n_3d_loop = n_3d(phi_list, E0_poco, mu, m)\n",
    "    n_2d_loop = n_2d_params(mu, m, E0_poco)\n",
    "    # print(\"formato n3d antes loop =>\", n_3d_loop.shape)\n",
    "    # obtendo energias e estados\n",
    "    # E0, phi_list = linalg.eigh(H)\n",
    "\n",
    "    # Loop de autoconsistência:\n",
    "    convergiu = False\n",
    "    cont_inte = []\n",
    "    n_2d_converg = [copy(n_2d_loop)]\n",
    "    iteracao = 1\n",
    "    while not convergiu:\n",
    "        print(\"iter=\", iteracao)\n",
    "        cont_inte.append(\n",
    "            iteracao\n",
    "        )  #                       Pegando o cont_inte <------- aqui\n",
    "        V_3 = V_hartree(n_3d_loop, k, dx, N, x)\n",
    "        V_pro_tempero = copy(V_temperado)\n",
    "        V_temperado = V_hartree_temperado(f, V_pro_tempero, V_3)\n",
    "        V_efetivo = V_total(V_poco_quadrado_finito, V_temperado)\n",
    "        # diagonalização\n",
    "        E0_list, phi_list = linalg.eigh(H(V_efetivo, m))\n",
    "        N_ocupados = N_levels(mu, E0_list)\n",
    "        print(\"N_ocupados no loop\", N_ocupados)\n",
    "        \n",
    "        # TODO>> pensar se esse break eh imprescindível...\n",
    "        if (N_ocupados > 8):\n",
    "          print(\"Saindo do loop.\\nExplodiu!\")\n",
    "          break\n",
    "        \n",
    "        enrg_inte_1.append(E0_list[0])  # Pegando o enrg_inte <------- aqui\n",
    "        enrg_inte_2.append(E0_list[1])  # Pegando o enrg_inte <------- aqui\n",
    "        n_3d_loop_novo = n_3d(phi_list, E0_list, mu, m)\n",
    "        # print(\"n_3d_loop_novo\", n_3d_loop_novo)\n",
    "        # n_3d_loop_novo = n_3d_loop_novo if n_3d_loop_novo.size != N else zeros(N)\n",
    "        n_2d_loop_novo = n_2d_params(mu, m, E0_list)\n",
    "        n_2d_converg.append(copy(n_2d_loop_novo))\n",
    "        # teste convergencia STD!!\n",
    "        if (iteracao >= 20):\n",
    "            desvio = std(n_2d_converg[-20:], axis=0)\n",
    "            print(\"desvio =\", desvio)\n",
    "            iteracao += 1\n",
    "            if (desvio[0] < epsilon) and (desvio[1] < epsilon):\n",
    "                # print(\"convergiu!\")\n",
    "                # print(\"Numero de niveis ocupados\", N_ocupados)\n",
    "                # print(\"Energias ocupadas\", E0_list[:N_ocupados])\n",
    "                n_2dmu.append(n_2d_loop_novo)\n",
    "                lista_energias.append(E0_mu(mu, E0_list))\n",
    "                lista_N_ocupados.append(N_levels(mu, E0_list))\n",
    "                convergiu = True\n",
    "        # if (abs((n_2d_loop_novo[0] - n_2d_loop[0])/n_2d_loop[0])<epsilon) and (abs((n_2d_loop_novo[1] - n_2d_loop[1])/n_2d_loop[1])<epsilon):\n",
    "        #   # se convergiu\n",
    "        #     print(\"Numero de niveis ocupados\", N_ocupados)\n",
    "        #     print(\"Energias ocupadas\", E0_list[:N_ocupados])\n",
    "        #     print(\"convergiu!\")\n",
    "        #     n_2dmu.append(n_2d_loop_novo)\n",
    "        #     lista_energias.append(E0_mu(mu, E0_list))\n",
    "        #     lista_N_ocupados.append(N_levels(mu, E0_list))\n",
    "        #     convergiu = True\n",
    "        else:\n",
    "            # se nao convergiu\n",
    "            # print(\"formato V_1 novo\", V_1.shape)\n",
    "            n_2d_loop = copy(n_2d_loop_novo)\n",
    "            n_3d_loop = copy(n_3d_loop_novo)\n",
    "            iteracao += 1\n"
   ]
  },
  {
   "cell_type": "code",
   "execution_count": null,
   "metadata": {},
   "outputs": [],
   "source": [
    "plotEnPsi_finite_diff(x, E0_list, phi_list, N_ocupados, 0.03, -0.0001, 0.006, 0, 800, V_efetivo)"
   ]
  },
  {
   "cell_type": "code",
   "execution_count": null,
   "metadata": {},
   "outputs": [],
   "source": [
    "cont_inte = array(cont_inte)\n",
    "enrg_inte_1 = array(enrg_inte_1)\n",
    "# print(enrg_inte_1)\n",
    "enrg_inte_2 = array(enrg_inte_2)\n",
    "\n",
    "plt.plot(cont_inte, enrg_inte_1[-len(cont_inte):], color='blue')\n",
    "plt.plot(cont_inte, enrg_inte_2[-len(cont_inte):], color='red')\n",
    "plt.xlabel(\"interações\")\n",
    "plt.ylabel(\"Energia\")\n",
    "plt.show()"
   ]
  },
  {
   "cell_type": "code",
   "execution_count": null,
   "metadata": {},
   "outputs": [],
   "source": [
    "n_2d_y = []\n",
    "print(len(n_2dmu))\n",
    "print(len(mu_x))\n",
    "for i in range(len(mu_x[:len(n_2dmu)])):\n",
    "    f = n_2dmu[i][0]*mu_x[i] + n_2dmu[i][1]\n",
    "    n_2d_y.append(f)\n",
    "n_2d_y = array(n_2d_y)"
   ]
  },
  {
   "cell_type": "code",
   "execution_count": null,
   "metadata": {},
   "outputs": [],
   "source": [
    "plt.hist(lista_energias,bins=200)\n",
    "plt.show()"
   ]
  },
  {
   "cell_type": "code",
   "execution_count": null,
   "metadata": {},
   "outputs": [],
   "source": [
    "plt.scatter(mu_x[:len(n_2dmu)], n_2d_y, s=1, linestyle=\"dashed\", label=\"densidade 2D\")\n",
    "# for E0 in E0_poco[:3]:\n",
    "#   plt.vlines(E0,0, 0.0001, colors=[\"black\"], label=\"Energias Poço Sem Interação\")\n",
    "plt.xlabel(r'$\\mu$')\n",
    "plt.ylabel(r'$n_{2D}$')\n",
    "plt.ylim(0,0.0004)\n",
    "plt.xlim(0, 0.009)\n",
    "plt.legend(loc=\"best\")\n",
    "plt.show()"
   ]
  },
  {
   "cell_type": "code",
   "execution_count": null,
   "metadata": {},
   "outputs": [],
   "source": [
    "plt.scatter(mu_x[:len(n_2dmu)], lista_N_ocupados,s=1, label=\"ocupacao\")\n",
    "plt.xlabel(r'$\\mu$')\n",
    "plt.ylabel(r'$N$')\n",
    "plt.legend(loc=\"best\")\n",
    "plt.xlim(0, 0.009)\n",
    "plt.ylim(0,6)\n",
    "plt.show()"
   ]
  },
  {
   "cell_type": "code",
   "execution_count": null,
   "metadata": {},
   "outputs": [],
   "source": [
    "plt.scatter(mu_x[:len(n_2dmu)], lista_energias, s=1, label=\"energia GS\")\n",
    "plt.xlabel(r'$\\mu$')\n",
    "plt.ylabel(r'$E_{GS}$')\n",
    "plt.legend(loc=\"best\")\n",
    "plt.ylim(0,0.02)\n",
    "plt.xlim(0, 0.01)\n",
    "plt.show()"
   ]
  },
  {
   "cell_type": "code",
   "execution_count": null,
   "metadata": {},
   "outputs": [],
   "source": []
  }
 ],
 "metadata": {
  "interpreter": {
   "hash": "e7370f93d1d0cde622a1f8e1c04877d8463912d04d973331ad4851f04de6915a"
  },
  "kernelspec": {
   "display_name": "Python 3.9.7 64-bit",
   "name": "python3"
  },
  "language_info": {
   "codemirror_mode": {
    "name": "ipython",
    "version": 3
   },
   "file_extension": ".py",
   "mimetype": "text/x-python",
   "name": "python",
   "nbconvert_exporter": "python",
   "pygments_lexer": "ipython3",
   "version": "3.9.7"
  },
  "orig_nbformat": 4
 },
 "nbformat": 4,
 "nbformat_minor": 2
}
