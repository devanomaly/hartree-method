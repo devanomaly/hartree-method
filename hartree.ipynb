{
 "cells": [
  {
   "cell_type": "code",
   "execution_count": 22,
   "source": [
    "from numpy import eye, linalg, arange, sqrt, diag, sin, pi, linspace, heaviside, sum as npsum, multiply, conjugate, real, array, zeros, copy\n",
    "import matplotlib.pyplot as plt"
   ],
   "outputs": [],
   "metadata": {}
  },
  {
   "cell_type": "code",
   "execution_count": 34,
   "source": [
    "# funcaozinha para inserir o range do eixo x, autovalores, autovetores e o numero de energias desejado na visualização; possivel inserir potencial para plotar junto\n",
    "def plotEnPsi_finite_diff(x_values, en, psi, n, scale,ymin,ymax, potential):\n",
    "    plt.plot(x_values, potential, c=\"C1140\")\n",
    "    for j in range(n):\n",
    "        plt.hlines(\n",
    "            en[j],\n",
    "            xmin=x_values[0],\n",
    "            xmax=x_values[-1],\n",
    "            colors=\"C\" + str(j),\n",
    "            linestyles=\"--\",\n",
    "        )\n",
    "        plt.plot(x_values, en[j] + scale * psi[:, j],  c=\"C\" + str(j))\n",
    "        y_min, y_max = (ymin, ymax)\n",
    "        plt.ylim(y_min, y_max)\n",
    "    plt.show()"
   ],
   "outputs": [],
   "metadata": {}
  },
  {
   "cell_type": "code",
   "execution_count": 24,
   "source": [
    "# PARAMETROS DO SISTEMA\n",
    "h_bar=1 #planck reduzida\n",
    "m = 0.067 #massa efetiva para GaAs na eq. de Schrödinger\n",
    "L = 800  # tamanho do sistema\n",
    "Ry = 26 #eV é a unidade de Energia\n",
    "a0 = 0.05 #nm é a unidade de distância\n",
    "h_bar2_m0 = Ry * a0**2\n",
    "e2 = Ry * a0\n",
    "k = 13 #constante dielétrica na eq. de Poisson\n",
    "n2D = 5*10**(-5) #a.u. densidade experimentais\n",
    "\n",
    "# parametros do poco (GaAs)\n",
    "xmin_poco = 0.25 * L #a.u. parede do poço\n",
    "xmax_poco = 0.75 * L #a.u. parede do poço\n",
    "V_0_poco = 0.01 #a.u. profundidade do poço quadrado\n",
    "\n",
    "# parametros do tempero\n",
    "f = 0.95\n",
    "\n",
    "# parâmetros de convergência\n",
    "epsilon = 0.002 \n",
    "\n",
    "# dopagem (0 representa o fundo do poço)\n",
    "mu = 0.01\n",
    "\n",
    "# DISCRETIZAÇÃO E INTERVALO ABSCISSAS\n",
    "N=200 #Numero de pontos na rede\n",
    "dx = L/(N+1)  # discretização> dx = L/N+1 => N = (L/dx) - 1\n",
    "x = arange(0, N)*dx\n",
    "\n",
    "# parametros iniciais no ciclo de autoconsistência\n",
    "V_h_inicial = zeros(N)\n",
    "n_3d_loop = zeros(N)"
   ],
   "outputs": [],
   "metadata": {}
  },
  {
   "cell_type": "code",
   "execution_count": 25,
   "source": [
    "# LAPLACIANO 1D DISCRETIZADO\n",
    "laplaciano = lambda dx,N: -(1 / (dx ** 2)) * (2 * eye(N) - eye(N, k=-1) - eye(N, k=1))\n",
    "energia_cinetica = lambda m: -(0.5/m)*laplaciano(dx,N)"
   ],
   "outputs": [],
   "metadata": {}
  },
  {
   "cell_type": "code",
   "execution_count": 26,
   "source": [
    "# DEFINIÇÃO DO POTENCIAL ESTRUTURAL\n",
    "poco_quadrado_finito = (\n",
    "    lambda profundidade, xmin, xmax, x: -profundidade\n",
    "    * heaviside(  # somar profundidade apenas para deixar o fundo do poço = 0\n",
    "        x - xmin, 1\n",
    "    )\n",
    "    * heaviside(xmax - x, 1)\n",
    "    + profundidade\n",
    ")   "
   ],
   "outputs": [],
   "metadata": {}
  },
  {
   "cell_type": "code",
   "execution_count": 27,
   "source": [
    "# POTENCIAIS\n",
    "# scale = 2\n",
    "V_poco_quadrado_finito = poco_quadrado_finito(\n",
    "    profundidade=V_0_poco, xmin=xmin_poco, xmax=xmax_poco, x=x\n",
    ")\n",
    "V_hartree = lambda n_3d, k, dx, N: linalg.solve(laplaciano(dx, N), (-4*pi/k)*n_3d)\n",
    "V_hartree_temperado = lambda tempero, V_1, V_3: f*V_1 + (1-f)*V_3\n",
    "V_total = lambda V_estrutural, V_interacao: V_estrutural + V_interacao \n",
    "plt.plot(x, V_poco_quadrado_finito)\n",
    "plt.show()\n"
   ],
   "outputs": [
    {
     "output_type": "display_data",
     "data": {
      "image/png": "[encoded data removed]",
      "text/plain": [
       "<Figure size 432x288 with 1 Axes>"
      ]
     },
     "metadata": {
      "needs_background": "light"
     }
    }
   ],
   "metadata": {}
  },
  {
   "cell_type": "code",
   "execution_count": 28,
   "source": [
    "# E0_mu (soma de níveis ocupados)\n",
    "E0_mu = lambda mu, E0_list: npsum(E0_list, where=E0_list<mu)\n",
    "# Numero de níveis ocupados \n",
    "N_levels = lambda mu, E0_list: npsum(E0_list<mu)\n",
    "# D.O.L 3D\n",
    "def n_3d(phi_list, E0_list, mu, m): \n",
    "  vectors = array([(m*(mu-E0_list[j])/(2*pi*h_bar**2))*(conjugate(phi_list[j])*phi_list[j]) for j in range(N_levels(mu, E0_list))])\n",
    "  if N_levels(mu, E0_list) > 1:\n",
    "    return npsum(vectors, axis=0)\n",
    "  return vectors\n",
    "# D.O.L 2D\n",
    "n_2d_params = lambda mu, m, E0_list: [npsum(E0_list<mu)*m/(2*pi*h_bar**2),-E0_mu(mu, E0_list)] #retorna os coeficientes linear e angular, n_2d_params[0]==a e n_2d_params[1]==b"
   ],
   "outputs": [],
   "metadata": {}
  },
  {
   "cell_type": "code",
   "execution_count": 29,
   "source": [
    "# O HAMILTONIANO\n",
    "H = lambda V_efetivo, m: energia_cinetica(m) + diag(\n",
    "    V_efetivo\n",
    ")"
   ],
   "outputs": [],
   "metadata": {}
  },
  {
   "cell_type": "code",
   "execution_count": 35,
   "source": [
    "# Primeira vez que foi executado o programa:\n",
    "V_1 = V_total(V_poco_quadrado_finito, V_hartree_temperado(1, V_h_inicial, V_hartree(n_3d_loop, k, dx, N)))\n",
    "# acrescentando o potencial \"infinito\" nas bordas\n",
    "V_1[0] = 1000\n",
    "V_1[-1] = 1000\n",
    "# diagonalização\n",
    "E0_list, phi_list = linalg.eigh(H(V_1,m))\n",
    "N_ocupados = N_levels(mu, E0_list)\n",
    "print(\"Numero de niveis ocupados antes do loop\", N_ocupados)\n",
    "print(\"Energias ocupadas antes do loop\", E0_list[:N_ocupados])\n",
    "\n",
    "# teste de consistência para ver as energias do poço\n",
    "plotEnPsi_finite_diff(x, E0_list, phi_list, 3, 0.02,0, 0.2, V_1)\n",
    "\n",
    "n_3d_loop = n_3d(phi_list, E0_list, mu, m)\n",
    "n_3d_loop = n_3d_loop if n_3d_loop.size != N else zeros(N)\n",
    "n_2d_loop = n_2d_params(mu, m, E0_list)\n",
    "print(\"formato n3d antes loop =>\", n_3d_loop.shape)\n",
    "# obtendo energias e estados\n",
    "# E0, phi_list = linalg.eigh(H)\n",
    "\n",
    "# Loop:\n",
    "convergiu = False\n",
    "iteracao=1\n",
    "while not convergiu:\n",
    "  print(\"iter=\", iteracao)\n",
    "  V_novo = V_total(V_poco_quadrado_finito, V_hartree_temperado(f, V_1, V_hartree(n_3d_loop, k, dx, N)))\n",
    "  # acrescentando o potencial \"infinito\" nas bordas\n",
    "  V_novo[0] = 1000\n",
    "  V_novo[-1] = 1000\n",
    "  print('formato potencial', V_novo.shape)\n",
    "  # diagonalização\n",
    "  E0_list, phi_list = linalg.eigh(H(V_novo,m))\n",
    "  N_ocupados = N_levels(mu, E0_list)\n",
    "  print(\"Numero de niveis ocupados\",N_ocupados )\n",
    "  print(\"Energias ocupadas\", E0_list[:N_ocupados])\n",
    "  print(\"Soma energias ocupadas\", E0_mu(mu, E0_list))\n",
    "  n_3d_loop_novo = n_3d(phi_list, E0_list, mu, m)\n",
    "  # print(\"n_3d_loop_novo\", n_3d_loop_novo)\n",
    "  print(\"size\",n_3d_loop_novo.size)\n",
    "  # n_3d_loop_novo = n_3d_loop_novo if n_3d_loop_novo.size != N else zeros(N)\n",
    "  n_2d_loop_novo = n_2d_params(mu, m, E0_list)\n",
    "  print(\"formato n3d no loop =>\", n_3d_loop_novo.shape)\n",
    "  \n",
    "  # teste convergencia\n",
    "  if (abs((n_2d_loop_novo[0] - n_2d_loop[0])/n_2d_loop[0])<epsilon) and (abs((n_2d_loop_novo[1] - n_2d_loop[1])/n_2d_loop[1])<epsilon):\n",
    "    # se convergiu\n",
    "    print(\"convergiu!\")\n",
    "    convergiu=True\n",
    "  else:\n",
    "    # se nao convergiu\n",
    "    V_1 = copy(V_novo)\n",
    "    print(\"formato V_1 novo\", V_1.shape)\n",
    "    n_2d_loop = copy(n_2d_loop_novo)\n",
    "    n_3d_loop = copy(n_3d_loop_novo)\n",
    "    iteracao+=1\n",
    "    "
   ],
   "outputs": [
    {
     "output_type": "stream",
     "name": "stdout",
     "text": [
      "Numero de niveis ocupados antes do loop 5\n",
      "Energias ocupadas antes do loop [0.00073727 0.00178071 0.00353123 0.00591225 0.00875653]\n"
     ]
    },
    {
     "output_type": "display_data",
     "data": {
      "image/png": "[encoded data removed]",
      "text/plain": [
       "<Figure size 432x288 with 1 Axes>"
      ]
     },
     "metadata": {
      "needs_background": "light"
     }
    },
    {
     "output_type": "stream",
     "name": "stdout",
     "text": [
      "formato n3d antes loop => (200,)\n",
      "iter= 1\n",
      "formato potencial (200,)\n",
      "Numero de niveis ocupados 5\n",
      "Energias ocupadas [0.00074601 0.00187491 0.00377914 0.00642231 0.00976618]\n",
      "Soma energias ocupadas 0.02258855064917696\n",
      "size 200\n",
      "formato n3d no loop => (200,)\n",
      "formato V_1 novo (200,)\n",
      "iter= 2\n",
      "formato potencial (200,)\n",
      "Numero de niveis ocupados 3\n",
      "Energias ocupadas [0.00507802 0.00604083 0.0079937 ]\n",
      "Soma energias ocupadas 0.01911255032982432\n",
      "size 200\n",
      "formato n3d no loop => (200,)\n",
      "formato V_1 novo (200,)\n",
      "iter= 3\n",
      "formato potencial (200,)\n",
      "Numero de niveis ocupados 3\n",
      "Energias ocupadas [0.00638139 0.00731038 0.00930379]\n",
      "Soma energias ocupadas 0.022995553618205364\n",
      "size 200\n",
      "formato n3d no loop => (200,)\n",
      "formato V_1 novo (200,)\n",
      "iter= 4\n",
      "formato potencial (200,)\n",
      "Numero de niveis ocupados 3\n",
      "Energias ocupadas [0.00699388 0.00791022 0.00993278]\n",
      "Soma energias ocupadas 0.024836881109803886\n",
      "size 200\n",
      "formato n3d no loop => (200,)\n",
      "formato V_1 novo (200,)\n",
      "iter= 5\n",
      "formato potencial (200,)\n",
      "Numero de niveis ocupados 2\n",
      "Energias ocupadas [0.00727802 0.00819039]\n",
      "Soma energias ocupadas 0.015468410215239306\n",
      "size 200\n",
      "formato n3d no loop => (200,)\n",
      "formato V_1 novo (200,)\n",
      "iter= 6\n",
      "formato potencial (200,)\n",
      "Numero de niveis ocupados 2\n",
      "Energias ocupadas [0.00745476 0.00836564]\n",
      "Soma energias ocupadas 0.01582040241464097\n",
      "size 200\n",
      "formato n3d no loop => (200,)\n",
      "formato V_1 novo (200,)\n",
      "iter= 7\n",
      "formato potencial (200,)\n",
      "Numero de niveis ocupados 2\n",
      "Energias ocupadas [0.00757281 0.00848342]\n",
      "Soma energias ocupadas 0.01605622310845649\n",
      "size 200\n",
      "formato n3d no loop => (200,)\n",
      "formato V_1 novo (200,)\n",
      "iter= 8\n",
      "formato potencial (200,)\n",
      "Numero de niveis ocupados 2\n",
      "Energias ocupadas [0.0076514 0.0085625]\n",
      "Soma energias ocupadas 0.01621390239558637\n",
      "size 200\n",
      "formato n3d no loop => (200,)\n",
      "formato V_1 novo (200,)\n",
      "iter= 9\n",
      "formato potencial (200,)\n",
      "Numero de niveis ocupados 2\n",
      "Energias ocupadas [0.00770347 0.00861546]\n",
      "Soma energias ocupadas 0.016318934980711217\n",
      "size 200\n",
      "formato n3d no loop => (200,)\n",
      "formato V_1 novo (200,)\n",
      "iter= 10\n",
      "formato potencial (200,)\n",
      "Numero de niveis ocupados 2\n",
      "Energias ocupadas [0.0077377  0.00865077]\n",
      "Soma energias ocupadas 0.016388471294210727\n",
      "size 200\n",
      "formato n3d no loop => (200,)\n",
      "formato V_1 novo (200,)\n",
      "iter= 11\n",
      "formato potencial (200,)\n",
      "Numero de niveis ocupados 2\n",
      "Energias ocupadas [0.00775999 0.00867419]\n",
      "Soma energias ocupadas 0.016434180070908806\n",
      "size 200\n",
      "formato n3d no loop => (200,)\n",
      "formato V_1 novo (200,)\n",
      "iter= 12\n",
      "formato potencial (200,)\n",
      "Numero de niveis ocupados 2\n",
      "Energias ocupadas [0.00777432 0.00868963]\n",
      "Soma energias ocupadas 0.016463955403196617\n",
      "size 200\n",
      "formato n3d no loop => (200,)\n",
      "convergiu!\n"
     ]
    }
   ],
   "metadata": {}
  },
  {
   "cell_type": "code",
   "execution_count": 38,
   "source": [
    "plotEnPsi_finite_diff(x, E0_list, phi_list, 4, 0.05,-0.01, 0.02, V_novo)"
   ],
   "outputs": [
    {
     "output_type": "display_data",
     "data": {
      "image/png": "[encoded data removed]",
      "text/plain": [
       "<Figure size 432x288 with 1 Axes>"
      ]
     },
     "metadata": {
      "needs_background": "light"
     }
    }
   ],
   "metadata": {}
  },
  {
   "cell_type": "code",
   "execution_count": 20,
   "source": [
    "plt.plot(x, V_novo)\n",
    "plt.ylim(0.005,0.018)\n",
    "plt.show()"
   ],
   "outputs": [
    {
     "output_type": "display_data",
     "data": {
      "image/png": "[encoded data removed]",
      "text/plain": [
       "<Figure size 432x288 with 1 Axes>"
      ]
     },
     "metadata": {
      "needs_background": "light"
     }
    }
   ],
   "metadata": {}
  }
 ],
 "metadata": {
  "orig_nbformat": 4,
  "language_info": {
   "name": "python",
   "version": "3.9.7",
   "mimetype": "text/x-python",
   "codemirror_mode": {
    "name": "ipython",
    "version": 3
   },
   "pygments_lexer": "ipython3",
   "nbconvert_exporter": "python",
   "file_extension": ".py"
  },
  "kernelspec": {
   "name": "python3",
   "display_name": "Python 3.9.7 64-bit"
  },
  "interpreter": {
   "hash": "e7370f93d1d0cde622a1f8e1c04877d8463912d04d973331ad4851f04de6915a"
  }
 },
 "nbformat": 4,
 "nbformat_minor": 2
}