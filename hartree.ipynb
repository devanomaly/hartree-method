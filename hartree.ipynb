{
 "cells": [
  {
   "cell_type": "code",
   "execution_count": 1,
   "metadata": {},
   "outputs": [],
   "source": [
    "from numpy import eye, linalg, arange, sqrt, diag, sin, pi, linspace, heaviside, sum as npsum, multiply, conjugate, real, array, zeros, copy\n",
    "import matplotlib.pyplot as plt"
   ]
  },
  {
   "cell_type": "code",
   "execution_count": 2,
   "metadata": {},
   "outputs": [],
   "source": [
    "# funcaozinha para inserir o range do eixo x, autovalores, autovetores e o numero de energias desejado na visualização; possivel inserir potencial para plotar junto\n",
    "def plotEnPsi_finite_diff(x_values, en, psi, n, scale,ymin,ymax, potential):\n",
    "    plt.plot(x_values, potential, c=\"C1140\")\n",
    "    for j in range(n):\n",
    "        plt.hlines(\n",
    "            en[j],\n",
    "            xmin=x_values[0],\n",
    "            xmax=x_values[-1],\n",
    "            colors=\"C\" + str(j),\n",
    "            linestyles=\"--\",\n",
    "        )\n",
    "        plt.plot(x_values, en[j] + scale * psi[:, j],  c=\"C\" + str(j))\n",
    "        y_min, y_max = (ymin, ymax)\n",
    "        plt.ylim(y_min, y_max)\n",
    "    plt.show()"
   ]
  },
  {
   "cell_type": "code",
   "execution_count": 3,
   "metadata": {},
   "outputs": [],
   "source": [
    "n_2dmu = []"
   ]
  },
  {
   "cell_type": "code",
   "execution_count": 5,
   "metadata": {},
   "outputs": [],
   "source": [
    "# PARAMETROS DO SISTEMA\n",
    "h_bar=1 #planck reduzida\n",
    "m = 0.067 #massa efetiva para GaAs na eq. de Schrödinger\n",
    "L = 800  # tamanho do sistema\n",
    "Ry = 26 #eV é a unidade de Energia\n",
    "a0 = 0.05 #nm é a unidade de distância\n",
    "h_bar2_m0 = Ry * a0**2\n",
    "e2 = Ry * a0\n",
    "k = 13 #constante dielétrica na eq. de Poisson\n",
    "n2D = 5*10**(-5) #a.u. densidade experimentais\n",
    "\n",
    "# parametros do poco (GaAs)\n",
    "xmin_poco = 0.25 * L #a.u. parede do poço\n",
    "xmax_poco = 0.75 * L #a.u. parede do poço\n",
    "V_0_poco = 0.01 #a.u. profundidade do poço quadrado\n",
    "\n",
    "# parametros do tempero\n",
    "f = 0.1\n",
    "\n",
    "# parâmetros de convergência\n",
    "epsilon = 0.0001 \n",
    "\n",
    "# DISCRETIZAÇÃO E INTERVALO ABSCISSAS\n",
    "N=1000 #Numero de pontos na rede\n",
    "dx = L/(N+1)  # discretização> dx = L/N+1 => N = (L/dx) - 1\n",
    "x = arange(0, N)*dx\n",
    "\n",
    "# parametros iniciais no ciclo de autoconsistência\n",
    "V_h_inicial = zeros(N)\n",
    "n_3d_loop = zeros(N)\n",
    "\n"
   ]
  },
  {
   "cell_type": "code",
   "execution_count": 103,
   "metadata": {},
   "outputs": [],
   "source": [
    "mu_x = array([0.1, 0.2, 0.3, 0.4, 0.5, 0.6, 0.7, 0.8, 0.9, 1.0])\n",
    "# dopagem (0 representa o fundo do poço)\n",
    "mu = mu_x[9] # 0, 1, 2, 3, 4, 5, 6, 7, 8, 9\n",
    "\n",
    "# para ver a convergência da energia\n",
    "enrg_inte_1 = []\n",
    "enrg_inte_2 = []"
   ]
  },
  {
   "cell_type": "code",
   "execution_count": 104,
   "metadata": {},
   "outputs": [],
   "source": [
    "# LAPLACIANO 1D DISCRETIZADO\n",
    "laplaciano = lambda dx,N: -(1 / (dx ** 2)) * (2 * eye(N) - eye(N, k=-1) - eye(N, k=1))\n",
    "energia_cinetica = lambda m: -(0.5/m)*laplaciano(dx,N)"
   ]
  },
  {
   "cell_type": "code",
   "execution_count": 105,
   "metadata": {},
   "outputs": [],
   "source": [
    "# DEFINIÇÃO DO POTENCIAL ESTRUTURAL\n",
    "poco_quadrado_finito = (\n",
    "    lambda profundidade, xmin, xmax, x: -profundidade\n",
    "    * heaviside(  # somar profundidade apenas para deixar o fundo do poço = 0\n",
    "        x - xmin, 1\n",
    "    )\n",
    "    * heaviside(xmax - x, 1)\n",
    "    + profundidade\n",
    ")   "
   ]
  },
  {
   "cell_type": "code",
   "execution_count": 106,
   "metadata": {},
   "outputs": [
    {
     "data": {
      "image/png": "[encoded data removed]",
      "text/plain": [
       "<Figure size 432x288 with 1 Axes>"
      ]
     },
     "metadata": {
      "needs_background": "light"
     },
     "output_type": "display_data"
    }
   ],
   "source": [
    "# POTENCIAIS\n",
    "# scale = 2\n",
    "V_poco_quadrado_finito = poco_quadrado_finito(\n",
    "    profundidade=V_0_poco, xmin=xmin_poco, xmax=xmax_poco, x=x\n",
    ")\n",
    "V_hartree = lambda n_3d, k, dx, N: linalg.solve(laplaciano(dx, N), (-4*pi/k)*n_3d)\n",
    "V_hartree_temperado = lambda tempero, V_1, V_3: f*V_3 + (1-f)*V_1\n",
    "V_total = lambda V_estrutural, V_interacao: V_estrutural + V_interacao \n",
    "plt.plot(x, V_poco_quadrado_finito)\n",
    "plt.show()\n"
   ]
  },
  {
   "cell_type": "code",
   "execution_count": 107,
   "metadata": {},
   "outputs": [],
   "source": [
    "# E0_mu (soma de níveis ocupados)\n",
    "E0_mu = lambda mu, E0_list: npsum(E0_list, where=E0_list<mu)\n",
    "# Numero de níveis ocupados \n",
    "N_levels = lambda mu, E0_list: npsum(E0_list<mu)\n",
    "# D.O.L 3D\n",
    "def n_3d(phi_list, E0_list, mu, m): \n",
    "  vectors = array([(m*(mu-E0_list[j])/(2*pi*h_bar**2))*(conjugate(phi_list[j])*phi_list[j]) for j in range(N_levels(mu, E0_list))])\n",
    "  if N_levels(mu, E0_list) > 1:\n",
    "    return npsum(vectors, axis=0)\n",
    "  elif N_levels(mu, E0_list) == 1:\n",
    "    return vectors[0]\n",
    "  return zeros(N)\n",
    "# D.O.L 2D\n",
    "n_2d_params = lambda mu, m, E0_list: [npsum(E0_list<mu)*m/(2*pi*h_bar**2),-E0_mu(mu, E0_list)] #retorna os coeficientes linear e angular, n_2d_params[0]==a e n_2d_params[1]==b"
   ]
  },
  {
   "cell_type": "code",
   "execution_count": 108,
   "metadata": {},
   "outputs": [],
   "source": [
    "# O HAMILTONIANO\n",
    "H = lambda V_efetivo, m: energia_cinetica(m) + diag(\n",
    "    V_efetivo\n",
    ")"
   ]
  },
  {
   "cell_type": "code",
   "execution_count": 109,
   "metadata": {},
   "outputs": [
    {
     "name": "stdout",
     "output_type": "stream",
     "text": [
      "Numero de niveis ocupados antes do loop 84\n",
      "Energias ocupadas antes do loop [0.06048494 0.06111607 0.0962783  0.0969719  0.12426994 0.12674939\n",
      " 0.14820692 0.15244815 0.16927856 0.17473861 0.1879055  0.19421373\n",
      " 0.20297223 0.20987973 0.21571827 0.22253995 0.22920062 0.23589155\n",
      " 0.24032533 0.24660002 0.25055392 0.25595832 0.25886316 0.26269394\n",
      " 0.26617166 0.27056333 0.27537261 0.28065556 0.28637706 0.29243977\n",
      " 0.29873912 0.30526232 0.31209583 0.31931207 0.32685871 0.33460989\n",
      " 0.34253    0.35071786 0.35926528 0.3681179  0.37714764 0.38634174\n",
      " 0.39581699 0.4056389  0.41571604 0.42594254 0.43636444 0.44710101\n",
      " 0.45815038 0.4693912  0.48078376 0.49243161 0.50440567 0.51662421\n",
      " 0.52899284 0.54156418 0.55444312 0.56760545 0.58094082 0.59444598\n",
      " 0.60822607 0.62230831 0.63659469 0.65103759 0.66572148 0.68070938\n",
      " 0.69593049 0.7113094  0.72690073 0.74278682 0.75892854 0.77523816\n",
      " 0.79173929 0.80852006 0.8255712  0.84280445 0.86021585 0.87788975\n",
      " 0.89584177 0.91399103 0.93231147 0.95087758 0.96972403 0.98878185]\n"
     ]
    },
    {
     "data": {
      "image/png": "[encoded data removed]",
      "text/plain": [
       "<Figure size 432x288 with 1 Axes>"
      ]
     },
     "metadata": {
      "needs_background": "light"
     },
     "output_type": "display_data"
    },
    {
     "name": "stdout",
     "output_type": "stream",
     "text": [
      "iter= 1\n",
      "Numero de niveis ocupados 8\n",
      "Energias ocupadas [0.35000352 0.35669968 0.58746345 0.60259816 0.77959587 0.80125826\n",
      " 0.94736425 0.97347741]\n",
      "iter= 2\n",
      "Numero de niveis ocupados 8\n",
      "Energias ocupadas [0.3369     0.34235376 0.56508376 0.57773508 0.74952935 0.76779945\n",
      " 0.91049294 0.93264352]\n",
      "iter= 3\n",
      "Numero de niveis ocupados 8\n",
      "Energias ocupadas [0.32591598 0.33017731 0.54624369 0.55658878 0.72416684 0.73936307\n",
      " 0.8793584  0.89798878]\n",
      "iter= 4\n",
      "Numero de niveis ocupados 9\n",
      "Energias ocupadas [0.31675073 0.31988709 0.53045268 0.53868195 0.70286428 0.71530576\n",
      " 0.85318104 0.86871753 0.98884015]\n",
      "iter= 5\n",
      "Numero de niveis ocupados 10\n",
      "Energias ocupadas [0.30919182 0.31127873 0.51736415 0.52366941 0.68516658 0.69516035\n",
      " 0.83140957 0.84425113 0.96337325 0.97866086]\n",
      "iter= 6\n",
      "Numero de niveis ocupados 10\n",
      "Energias ocupadas [0.30317357 0.3042867  0.50687496 0.51144133 0.67094032 0.67877577\n",
      " 0.81388222 0.8244003  0.9428568  0.95579474]\n",
      "iter= 7\n",
      "Numero de niveis ocupados 10\n",
      "Energias ocupadas [0.29843752 0.29865577 0.4985575  0.50156253 0.65961977 0.6655618\n",
      " 0.7999102  0.80843536 0.92648854 0.93746181]\n",
      "iter= 8\n",
      "Numero de niveis ocupados 10\n",
      "Energias ocupadas [0.29413429 0.2947325  0.49199383 0.49360267 0.65065029 0.65493496\n",
      " 0.78881668 0.79563587 0.91348074 0.92281487]\n",
      "iter= 9\n",
      "Numero de niveis ocupados 10\n",
      "Energias ocupadas [0.29050986 0.29187285 0.48685656 0.48719708 0.6435879  0.64640067\n",
      " 0.78005439 0.78539158 0.90319289 0.91113693]\n",
      "iter= 10\n",
      "Numero de niveis ocupados 10\n",
      "Energias ocupadas [0.28760709 0.28966168 0.48204444 0.48283398 0.63802597 0.63955073\n",
      " 0.77313285 0.77719959 0.8950579  0.90183806]\n",
      "iter= 11\n",
      "Numero de niveis ocupados 10\n",
      "Energias ocupadas [0.28528465 0.28798401 0.47790163 0.47971834 0.63368074 0.63405616\n",
      " 0.76770215 0.77065522 0.8886635  0.89444434]\n",
      "iter= 12\n",
      "Numero de niveis ocupados 11\n",
      "Energias ocupadas [0.28342614 0.2867075  0.4745682  0.47730178 0.62964605 0.63028076\n",
      " 0.76343549 0.7654258  0.88363179 0.88856685 0.99442692]\n",
      "iter= 13\n",
      "Numero de niveis ocupados 12\n",
      "Energias ocupadas [0.28196743 0.28579166 0.47193299 0.47550306 0.6261701  0.62771167\n",
      " 0.76018882 0.76132719 0.87979022 0.88399101 0.99006166 0.99755855]\n",
      "iter= 14\n",
      "Numero de niveis ocupados 12\n",
      "Energias ocupadas [0.28083321 0.28514832 0.46986593 0.47418585 0.62345297 0.62579869\n",
      " 0.75775189 0.75814477 0.87689625 0.88046679 0.98676925 0.99378525]\n",
      "iter= 15\n",
      "Numero de niveis ocupados 12\n",
      "Energias ocupadas [0.27995866 0.28471811 0.46825496 0.47324818 0.62134383 0.62440318\n",
      " 0.75569427 0.75595497 0.87475154 0.87777992 0.98432511 0.9909409 ]\n",
      "iter= 16\n",
      "Numero de niveis ocupados 12\n",
      "Energias ocupadas [0.2792819  0.28445775 0.4669932  0.47260631 0.61969908 0.62340969\n",
      " 0.75380043 0.75465312 0.87318469 0.87572675 0.98253319 0.98879593]\n",
      "iter= 17\n",
      "Numero de niveis ocupados 12\n",
      "Energias ocupadas [0.27875484 0.28430791 0.46599741 0.47216886 0.61840706 0.62269922\n",
      " 0.75232725 0.75370462 0.87203321 0.87414966 0.98121196 0.98717306]\n",
      "iter= 18\n",
      "Numero de niveis ocupados 12\n",
      "Energias ocupadas [0.27834202 0.28423683 0.46520604 0.47188159 0.61738533 0.62220039\n",
      " 0.75117462 0.75302131 0.87119407 0.87293296 0.98024478 0.98594262]\n",
      "iter= 19\n",
      "Numero de niveis ocupados 12\n",
      "Energias ocupadas [0.27801647 0.28422102 0.46457212 0.4717034  0.61657112 0.6218575\n",
      " 0.75026654 0.75253472 0.87058732 0.87198912 0.97954122 0.98500677]\n",
      "iter= 20\n",
      "Numero de niveis ocupados 12\n",
      "Energias ocupadas [0.27775771 0.2842432  0.46405987 0.47160275 0.61591668 0.62162616\n",
      " 0.74954536 0.75219066 0.87014999 0.87125197 0.97903024 0.98429189]\n",
      "iter= 21\n",
      "Numero de niveis ocupados 12\n",
      "Energias ocupadas [0.27755045 0.28429076 0.46364247 0.47155816 0.61538629 0.62147856\n",
      " 0.74896815 0.75195423 0.86984083 0.87067247 0.97866502 0.98374364]\n",
      "iter= 22\n",
      "Numero de niveis ocupados 12\n",
      "Energias ocupadas [0.27738296 0.28435447 0.4632992  0.47155288 0.61495246 0.62139158\n",
      " 0.74850199 0.75179674 0.86962619 0.87021319 0.97840735 0.98332076]\n",
      "iter= 23\n",
      "Numero de niveis ocupados 12\n",
      "Energias ocupadas [0.27724632 0.2844277  0.46301423 0.4715746  0.61459419 0.62134811\n",
      " 0.74812186 0.75169684 0.86948061 0.86984583 0.97822802 0.98299227]\n",
      "iter= 24\n",
      "Numero de niveis ocupados 12\n",
      "Energias ocupadas [0.27713379 0.28450572 0.4627755  0.47161431 0.61429556 0.62133542\n",
      " 0.74780891 0.7516386  0.86938542 0.86954923 0.97810618 0.98273512]\n",
      "iter= 25\n",
      "Numero de niveis ocupados 12\n",
      "Energias ocupadas [0.27704015 0.28458522 0.4625736  0.47166405 0.61404418 0.62134113\n",
      " 0.74754851 0.75160692 0.86930708 0.86932329 0.97802265 0.98253173]\n",
      "iter= 26\n",
      "Numero de niveis ocupados 12\n",
      "Energias ocupadas [0.27696187 0.28467564 0.46240207 0.47173273 0.61383158 0.62137399\n",
      " 0.74733086 0.75160902 0.86910861 0.86929994 0.97798213 0.9823707 ]\n",
      "iter= 27\n",
      "Numero de niveis ocupados 12\n",
      "Energias ocupadas [0.27689529 0.28476208 0.46225424 0.47180293 0.61364902 0.62141446\n",
      " 0.7471457  0.75162391 0.86894248 0.86929369 0.97796196 0.98223988]\n",
      "convergiu!\n"
     ]
    }
   ],
   "source": [
    "# Primeira vez que foi executado o programa:\n",
    "V_1 = V_h_inicial\n",
    "V_3 = V_hartree(n_3d_loop, k, dx, N)\n",
    "V_temperado = V_hartree_temperado(0, V_1, V_3)\n",
    "V_efetivo = V_total(V_poco_quadrado_finito, V_temperado)\n",
    "# acrescentando o potencial \"infinito\" nas bordas \n",
    "# TODO>>> irrelevante?\n",
    "V_efetivo[0] = 1000\n",
    "V_efetivo[-1] = 1000\n",
    "# diagonalização\n",
    "E0_list, phi_list = linalg.eigh(H(V_efetivo,m))\n",
    "N_ocupados = N_levels(mu, E0_list)\n",
    "print(\"Numero de niveis ocupados antes do loop\", N_ocupados)\n",
    "print(\"Energias ocupadas antes do loop\", E0_list[:N_ocupados])\n",
    "\n",
    "# teste de consistência para ver as energias do poço\n",
    "plotEnPsi_finite_diff(x, E0_list, phi_list, N_ocupados, 0.05,0, 0.02, V_efetivo)\n",
    "\n",
    "n_3d_loop = n_3d(phi_list, E0_list, mu, m)\n",
    "n_2d_loop = n_2d_params(mu, m, E0_list)\n",
    "# print(\"formato n3d antes loop =>\", n_3d_loop.shape)\n",
    "# obtendo energias e estados\n",
    "# E0, phi_list = linalg.eigh(H)\n",
    "\n",
    "# Loop de autoconsistência:\n",
    "convergiu = False\n",
    "cont_inte = []\n",
    "iteracao=1\n",
    "while not convergiu:\n",
    "  print(\"iter=\", iteracao)\n",
    "  cont_inte.append(iteracao) #                       Pegando o cont_inte <------- aqui\n",
    "  V_3 = V_hartree(n_3d_loop, k, dx, N)\n",
    "  V_temperado = V_hartree_temperado(f, V_temperado, V_3)\n",
    "  V_efetivo = V_total(V_poco_quadrado_finito, V_temperado)\n",
    "  # acrescentando o potencial \"infinito\" nas bordas\n",
    "  V_efetivo[0] = 1000\n",
    "  V_efetivo[-1] = 1000\n",
    "  # diagonalização\n",
    "  E0_list, phi_list = linalg.eigh(H(V_efetivo,m))\n",
    "  N_ocupados = N_levels(mu, E0_list)\n",
    "  print(\"Numero de niveis ocupados\",N_ocupados)\n",
    "  print(\"Energias ocupadas\", E0_list[:N_ocupados])\n",
    "  enrg_inte_1.append(E0_list[0]) # Pegando o enrg_inte <------- aqui\n",
    "  enrg_inte_2.append(E0_list[1]) # Pegando o enrg_inte <------- aqui\n",
    "  n_3d_loop_novo = n_3d(phi_list, E0_list, mu, m)\n",
    "  # print(\"n_3d_loop_novo\", n_3d_loop_novo)\n",
    "  # n_3d_loop_novo = n_3d_loop_novo if n_3d_loop_novo.size != N else zeros(N)\n",
    "  n_2d_loop_novo = n_2d_params(mu, m, E0_list)\n",
    "  \n",
    "  # teste convergencia STD!!\n",
    "  if (abs((n_2d_loop_novo[0] - n_2d_loop[0])/n_2d_loop[0])<epsilon) and (abs((n_2d_loop_novo[1] - n_2d_loop[1])/n_2d_loop[1])<epsilon):\n",
    "    # se convergiu\n",
    "    print(\"convergiu!\")\n",
    "    n_2dmu.append(n_2d_loop_novo)\n",
    "    convergiu=True\n",
    "  else:\n",
    "    # se nao convergiu\n",
    "    # print(\"formato V_1 novo\", V_1.shape)\n",
    "    n_2d_loop = copy(n_2d_loop_novo)\n",
    "    n_3d_loop = copy(n_3d_loop_novo)\n",
    "    iteracao+=1"
   ]
  },
  {
   "cell_type": "code",
   "execution_count": 110,
   "metadata": {},
   "outputs": [
    {
     "data": {
      "image/png": "[encoded data removed]",
      "text/plain": [
       "<Figure size 432x288 with 1 Axes>"
      ]
     },
     "metadata": {
      "needs_background": "light"
     },
     "output_type": "display_data"
    }
   ],
   "source": [
    "plotEnPsi_finite_diff(x, E0_list, phi_list, N_ocupados, 0.03, 0.0, 0.009, V_efetivo)"
   ]
  },
  {
   "cell_type": "code",
   "execution_count": 111,
   "metadata": {},
   "outputs": [
    {
     "data": {
      "image/png": "[encoded data removed]",
      "text/plain": [
       "<Figure size 432x288 with 1 Axes>"
      ]
     },
     "metadata": {
      "needs_background": "light"
     },
     "output_type": "display_data"
    }
   ],
   "source": [
    "cont_inte = array(cont_inte)\n",
    "enrg_inte_1 = array(enrg_inte_1)\n",
    "enrg_inte_2 = array(enrg_inte_2)\n",
    "\n",
    "plt.plot(cont_inte, enrg_inte_1, color='blue')\n",
    "plt.plot(cont_inte, enrg_inte_2, color='red')\n",
    "plt.xlabel(\"interações\")\n",
    "plt.ylabel(\"Energia\")\n",
    "plt.show()"
   ]
  },
  {
   "cell_type": "code",
   "execution_count": 114,
   "metadata": {},
   "outputs": [],
   "source": [
    "n_2d_y = []\n",
    "for i in range(len(mu_x)):\n",
    "    f = n_2dmu[i][0]*mu_x[i] + n_2dmu[i][1]\n",
    "    n_2d_y.append(f)\n",
    "n_2d_y = array(n_2d_y)"
   ]
  },
  {
   "cell_type": "code",
   "execution_count": 116,
   "metadata": {},
   "outputs": [
    {
     "data": {
      "image/png": "[encoded data removed]",
      "text/plain": [
       "<Figure size 432x288 with 1 Axes>"
      ]
     },
     "metadata": {
      "needs_background": "light"
     },
     "output_type": "display_data"
    }
   ],
   "source": [
    "plt.scatter(mu_x, -n_2d_y)\n",
    "plt.xlabel(r'$\\mu$')\n",
    "plt.ylabel(r'$n_{2D}$')\n",
    "plt.show()"
   ]
  }
 ],
 "metadata": {
  "interpreter": {
   "hash": "63fd5069d213b44bf678585dea6b12cceca9941eaf7f819626cde1f2670de90d"
  },
  "kernelspec": {
   "display_name": "Python 3.9.6 64-bit",
   "name": "python3"
  },
  "language_info": {
   "codemirror_mode": {
    "name": "ipython",
    "version": 3
   },
   "file_extension": ".py",
   "mimetype": "text/x-python",
   "name": "python",
   "nbconvert_exporter": "python",
   "pygments_lexer": "ipython3",
   "version": "3.9.6"
  },
  "orig_nbformat": 4
 },
 "nbformat": 4,
 "nbformat_minor": 2
}
