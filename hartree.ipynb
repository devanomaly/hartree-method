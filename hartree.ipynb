{
 "cells": [
  {
   "cell_type": "code",
   "execution_count": 1,
   "source": [
    "from numpy import eye, linalg, arange, sqrt, diag, sin, pi, linspace, heaviside, sum as npsum, multiply, conjugate, real, array, zeros, copy\n",
    "import matplotlib.pyplot as plt"
   ],
   "outputs": [],
   "metadata": {}
  },
  {
   "cell_type": "code",
   "execution_count": 2,
   "source": [
    "# funcaozinha para inserir o range do eixo x, autovalores, autovetores e o numero de energias desejado na visualização; possivel inserir potencial para plotar junto\n",
    "def plotEnPsi_finite_diff(x_values, en, psi, n, scale, potential):\n",
    "    plt.plot(x_values, potential, c=\"C1140\")\n",
    "    for j in range(n):\n",
    "        plt.hlines(\n",
    "            en[j],\n",
    "            xmin=x_values[0],\n",
    "            xmax=x_values[-1],\n",
    "            colors=\"C\" + str(j),\n",
    "            linestyles=\"--\",\n",
    "        )\n",
    "        plt.plot(x_values, en[j] + scale * psi[:, j],  c=\"C\" + str(j))\n",
    "        y_min, y_max = (0.0, scale)\n",
    "        plt.ylim(y_min, y_max)\n",
    "    plt.show()"
   ],
   "outputs": [],
   "metadata": {}
  },
  {
   "cell_type": "code",
   "execution_count": 3,
   "source": [
    "# PARAMETROS DO SISTEMA\n",
    "h_bar=1 #planck reduzida\n",
    "m = 0.067 #massa efetiva para GaAs na eq. de Schrödinger\n",
    "L = 800  # tamanho do sistema\n",
    "Ry = 26 #eV é a unidade de Energia\n",
    "a0 = 0.05 #nm é a unidade de distância\n",
    "h_bar2_m0 = Ry * a0**2\n",
    "e2 = Ry * a0\n",
    "k = 13 #constante dielétrica na eq. de Poisson\n",
    "n2D = 5*10**(-5) #a.u. densidade experimentais\n",
    "\n",
    "# parametros do poco (GaAs)\n",
    "xmin_poco = 0.25 * L #a.u. parede do poço\n",
    "xmax_poco = 0.75 * L #a.u. parede do poço\n",
    "V_0_poco = 0.01 #a.u. profundidade do poço quadrado\n",
    "\n",
    "# parametros do tempero\n",
    "f = 0.95\n",
    "\n",
    "# parâmetros de convergência\n",
    "epsilon = 0.002 \n",
    "\n",
    "# dopagem (0 representa o fundo do poço)\n",
    "mu = 0.01\n",
    "\n",
    "# DISCRETIZAÇÃO E INTERVALO ABSCISSAS\n",
    "N=200 #Numero de pontos na rede\n",
    "dx = L/(N+1)  # discretização> dx = L/N+1 => N = (L/dx) - 1\n",
    "x = arange(0, N)*dx\n",
    "\n",
    "# parametros iniciais no ciclo de autoconsistência\n",
    "V_h_inicial = zeros(N)\n",
    "n_3d_loop = zeros(N)"
   ],
   "outputs": [],
   "metadata": {}
  },
  {
   "cell_type": "code",
   "execution_count": 4,
   "source": [
    "# LAPLACIANO 1D DISCRETIZADO\n",
    "laplaciano = lambda dx,N: -(1 / (dx ** 2)) * (2 * eye(N) - eye(N, k=-1) - eye(N, k=1))\n",
    "energia_cinetica = lambda m: -(0.5/m)*laplaciano(dx,N)"
   ],
   "outputs": [],
   "metadata": {}
  },
  {
   "cell_type": "code",
   "execution_count": 5,
   "source": [
    "# DEFINIÇÃO DO POTENCIAL ESTRUTURAL\n",
    "poco_quadrado_finito = (\n",
    "    lambda profundidade, xmin, xmax, x: -profundidade\n",
    "    * heaviside(  # somar profundidade apenas para deixar o fundo do poço = 0\n",
    "        x - xmin, 1\n",
    "    )\n",
    "    * heaviside(xmax - x, 1)\n",
    "    + profundidade\n",
    ")   "
   ],
   "outputs": [],
   "metadata": {}
  },
  {
   "cell_type": "code",
   "execution_count": 6,
   "source": [
    "# POTENCIAIS\n",
    "# scale = 2\n",
    "V_poco_quadrado_finito = poco_quadrado_finito(\n",
    "    profundidade=V_0_poco, xmin=xmin_poco, xmax=xmax_poco, x=x\n",
    ")\n",
    "V_hartree = lambda n_3d, k, dx, N: linalg.solve(laplaciano(dx, N), (-4*pi/k)*n_3d)\n",
    "V_hartree_temperado = lambda tempero, V_1, V_3: f*V_1 + (1-f)*V_3\n",
    "V_total = lambda V_estrutural, V_interacao: V_estrutural + V_interacao \n",
    "plt.plot(x, V_poco_quadrado_finito)\n",
    "plt.show()\n"
   ],
   "outputs": [
    {
     "output_type": "display_data",
     "data": {
      "image/png": "[encoded data removed]",
      "text/plain": [
       "<Figure size 432x288 with 1 Axes>"
      ]
     },
     "metadata": {
      "needs_background": "light"
     }
    }
   ],
   "metadata": {}
  },
  {
   "cell_type": "code",
   "execution_count": 7,
   "source": [
    "# E0_mu (soma de níveis ocupados)\n",
    "E0_mu = lambda mu, E0_list: npsum(E0_list, where=E0_list<mu)\n",
    "# Numero de níveis ocupados \n",
    "N_levels = lambda mu, E0_list: npsum(E0_list<mu)\n",
    "# D.O.L 3D\n",
    "def n_3d(phi_list, E0_list, mu, m): \n",
    "  vectors = array([(m*(mu-E0_list[j])/(2*pi*h_bar**2))*(conjugate(phi_list[j])*phi_list[j]) for j in range(N_levels(mu, E0_list))])\n",
    "  if N_levels(mu, E0_list) > 1:\n",
    "    return npsum(vectors, axis=0)\n",
    "  return vectors\n",
    "# D.O.L 2D\n",
    "n_2d_params = lambda mu, m, E0_list: [npsum(E0_list<mu)*m/(2*pi*h_bar**2),-E0_mu(mu, E0_list)] #retorna os coeficientes linear e angular, n_2d_params[0]==a e n_2d_params[1]==b"
   ],
   "outputs": [],
   "metadata": {}
  },
  {
   "cell_type": "code",
   "execution_count": 8,
   "source": [
    "# O HAMILTONIANO\n",
    "H = lambda V_efetivo, m: energia_cinetica(m) + diag(\n",
    "    V_efetivo\n",
    ")"
   ],
   "outputs": [],
   "metadata": {}
  },
  {
   "cell_type": "code",
   "execution_count": 9,
   "source": [
    "# Primeira vez que foi executado o programa:\n",
    "V_1 = V_total(V_poco_quadrado_finito, V_hartree_temperado(1, V_h_inicial, V_hartree(n_3d_loop, k, dx, N)))\n",
    "# acrescentando o potencial \"infinito\" nas bordas\n",
    "V_1[0] = 1000\n",
    "V_1[-1] = 1000\n",
    "# diagonalização\n",
    "E0_list, phi_list = linalg.eigh(H(V_1,m))\n",
    "N_ocupados = N_levels(mu, E0_list)\n",
    "print(\"Numero de niveis ocupados antes do loop\", N_ocupados)\n",
    "print(\"Energias ocupadas antes do loop\", E0_list[:N_ocupados])\n",
    "\n",
    "# teste de consistência para ver as energias do poço\n",
    "# plotEnPsi_finite_diff(x, E0_list, phi_list, 3, 0.02, V_1)\n",
    "\n",
    "n_3d_loop = n_3d(phi_list, E0_list, mu, m)\n",
    "n_3d_loop = n_3d_loop if n_3d_loop.size != N else zeros(N)\n",
    "n_2d_loop = n_2d_params(mu, m, E0_list)\n",
    "print(\"formato n3d antes loop =>\", n_3d_loop.shape)\n",
    "# obtendo energias e estados\n",
    "# E0, phi_list = linalg.eigh(H)\n",
    "\n",
    "# Loop:\n",
    "convergiu = False\n",
    "iteracao=1\n",
    "while not convergiu:\n",
    "  print(\"iter=\", iteracao)\n",
    "  V_novo = V_total(V_poco_quadrado_finito, V_hartree_temperado(f, V_1, V_hartree(n_3d_loop, k, dx, N)))\n",
    "  # acrescentando o potencial \"infinito\" nas bordas\n",
    "  V_novo[0] = 1000\n",
    "  V_novo[-1] = 1000\n",
    "  print('formato potencial', V_novo.shape)\n",
    "  # diagonalização\n",
    "  E0_list, phi_list = linalg.eigh(H(V_novo,m))\n",
    "  N_ocupados = N_levels(mu, E0_list)\n",
    "  print(\"Numero de niveis ocupados\",N_ocupados )\n",
    "  print(\"Energias ocupadas\", E0_list[:N_ocupados])\n",
    "  print(\"Soma energias ocupadas\", E0_mu(mu, E0_list))\n",
    "  n_3d_loop_novo = n_3d(phi_list, E0_list, mu, m)\n",
    "  # print(\"n_3d_loop_novo\", n_3d_loop_novo)\n",
    "  print(\"size\",n_3d_loop_novo.size)\n",
    "  # n_3d_loop_novo = n_3d_loop_novo if n_3d_loop_novo.size != N else zeros(N)\n",
    "  n_2d_loop_novo = n_2d_params(mu, m, E0_list)\n",
    "  print(\"formato n3d no loop =>\", n_3d_loop_novo.shape)\n",
    "  \n",
    "  # teste convergencia\n",
    "  if (abs((n_2d_loop_novo[0] - n_2d_loop[0])/n_2d_loop[0])<epsilon) and (abs((n_2d_loop_novo[1] - n_2d_loop[1])/n_2d_loop[1])<epsilon):\n",
    "    # se convergiu\n",
    "    print(\"convergiu!\")\n",
    "    convergiu=True\n",
    "  else:\n",
    "    # se nao convergiu\n",
    "    V_1 = copy(V_novo)\n",
    "    print(\"formato V_1 novo\", V_1.shape)\n",
    "    n_2d_loop = copy(n_2d_loop_novo)\n",
    "    n_3d_loop = copy(n_3d_loop_novo)\n",
    "    iteracao+=1\n",
    "    "
   ],
   "outputs": [
    {
     "output_type": "stream",
     "name": "stdout",
     "text": [
      "Numero de niveis ocupados antes do loop 28\n",
      "Energias ocupadas antes do loop [0.00035871 0.00142797 0.00318384 0.00556987 0.00842723 0.01095237\n",
      " 0.01185515 0.01296115 0.01538913 0.01730513 0.01930794 0.02226007\n",
      " 0.02526152 0.02804345 0.03136124 0.03521955 0.03897006 0.04278447\n",
      " 0.04713503 0.05180858 0.05642394 0.06122447 0.06649179 0.07198785\n",
      " 0.07749006 0.08322261 0.08935461 0.09567498]\n",
      "formato n3d antes loop => (200,)\n",
      "iter= 1\n",
      "formato potencial (200,)\n",
      "Numero de niveis ocupados 28\n",
      "Energias ocupadas [0.00036083 0.00143686 0.00320565 0.00561536 0.00852656 0.01126186\n",
      " 0.01228877 0.01326069 0.01567587 0.0176573  0.0195941  0.02251259\n",
      " 0.0255642  0.02833637 0.03161164 0.03548367 0.03925574 0.04305054\n",
      " 0.04738335 0.05207369 0.05669616 0.06148045 0.06674146 0.07225058\n",
      " 0.07775394 0.08347475 0.0896053  0.09593489]\n",
      "Soma energias ocupadas 1.0380931567124179\n",
      "size 200\n",
      "formato n3d no loop => (200,)\n",
      "formato V_1 novo (200,)\n",
      "iter= 2\n",
      "formato potencial (200,)\n",
      "Numero de niveis ocupados 0\n",
      "Energias ocupadas []\n",
      "Soma energias ocupadas 0.0\n",
      "size 0\n",
      "formato n3d no loop => (0,)\n",
      "formato V_1 novo (200,)\n",
      "iter= 3\n"
     ]
    },
    {
     "output_type": "error",
     "ename": "ValueError",
     "evalue": "solve1: Input operand 1 has a mismatch in its core dimension 0, with gufunc signature (m,m),(m)->(m) (size 0 is different from 200)",
     "traceback": [
      "\u001b[0;31m---------------------------------------------------------------------------\u001b[0m",
      "\u001b[0;31mValueError\u001b[0m                                Traceback (most recent call last)",
      "\u001b[0;32m/tmp/ipykernel_19382/3269862787.py\u001b[0m in \u001b[0;36m<module>\u001b[0;34m\u001b[0m\n\u001b[1;32m     25\u001b[0m \u001b[0;32mwhile\u001b[0m \u001b[0;32mnot\u001b[0m \u001b[0mconvergiu\u001b[0m\u001b[0;34m:\u001b[0m\u001b[0;34m\u001b[0m\u001b[0;34m\u001b[0m\u001b[0m\n\u001b[1;32m     26\u001b[0m   \u001b[0mprint\u001b[0m\u001b[0;34m(\u001b[0m\u001b[0;34m\"iter=\"\u001b[0m\u001b[0;34m,\u001b[0m \u001b[0miteracao\u001b[0m\u001b[0;34m)\u001b[0m\u001b[0;34m\u001b[0m\u001b[0;34m\u001b[0m\u001b[0m\n\u001b[0;32m---> 27\u001b[0;31m   \u001b[0mV_novo\u001b[0m \u001b[0;34m=\u001b[0m \u001b[0mV_total\u001b[0m\u001b[0;34m(\u001b[0m\u001b[0mV_poco_quadrado_finito\u001b[0m\u001b[0;34m,\u001b[0m \u001b[0mV_hartree_temperado\u001b[0m\u001b[0;34m(\u001b[0m\u001b[0mf\u001b[0m\u001b[0;34m,\u001b[0m \u001b[0mV_1\u001b[0m\u001b[0;34m,\u001b[0m \u001b[0mV_hartree\u001b[0m\u001b[0;34m(\u001b[0m\u001b[0mn_3d_loop\u001b[0m\u001b[0;34m,\u001b[0m \u001b[0mk\u001b[0m\u001b[0;34m,\u001b[0m \u001b[0mdx\u001b[0m\u001b[0;34m,\u001b[0m \u001b[0mN\u001b[0m\u001b[0;34m)\u001b[0m\u001b[0;34m)\u001b[0m\u001b[0;34m)\u001b[0m\u001b[0;34m\u001b[0m\u001b[0;34m\u001b[0m\u001b[0m\n\u001b[0m\u001b[1;32m     28\u001b[0m   \u001b[0;31m# acrescentando o potencial \"infinito\" nas bordas\u001b[0m\u001b[0;34m\u001b[0m\u001b[0;34m\u001b[0m\u001b[0m\n\u001b[1;32m     29\u001b[0m   \u001b[0mV_novo\u001b[0m\u001b[0;34m[\u001b[0m\u001b[0;36m0\u001b[0m\u001b[0;34m]\u001b[0m \u001b[0;34m=\u001b[0m \u001b[0;36m1000\u001b[0m\u001b[0;34m\u001b[0m\u001b[0;34m\u001b[0m\u001b[0m\n",
      "\u001b[0;32m/tmp/ipykernel_19382/608130668.py\u001b[0m in \u001b[0;36m<lambda>\u001b[0;34m(n_3d, k, dx, N)\u001b[0m\n\u001b[1;32m      4\u001b[0m     \u001b[0mprofundidade\u001b[0m\u001b[0;34m=\u001b[0m\u001b[0mV_0_poco\u001b[0m\u001b[0;34m,\u001b[0m \u001b[0mxmin\u001b[0m\u001b[0;34m=\u001b[0m\u001b[0mxmin_poco\u001b[0m\u001b[0;34m,\u001b[0m \u001b[0mxmax\u001b[0m\u001b[0;34m=\u001b[0m\u001b[0mxmax_poco\u001b[0m\u001b[0;34m,\u001b[0m \u001b[0mx\u001b[0m\u001b[0;34m=\u001b[0m\u001b[0mx\u001b[0m\u001b[0;34m\u001b[0m\u001b[0;34m\u001b[0m\u001b[0m\n\u001b[1;32m      5\u001b[0m )\n\u001b[0;32m----> 6\u001b[0;31m \u001b[0mV_hartree\u001b[0m \u001b[0;34m=\u001b[0m \u001b[0;32mlambda\u001b[0m \u001b[0mn_3d\u001b[0m\u001b[0;34m,\u001b[0m \u001b[0mk\u001b[0m\u001b[0;34m,\u001b[0m \u001b[0mdx\u001b[0m\u001b[0;34m,\u001b[0m \u001b[0mN\u001b[0m\u001b[0;34m:\u001b[0m \u001b[0mlinalg\u001b[0m\u001b[0;34m.\u001b[0m\u001b[0msolve\u001b[0m\u001b[0;34m(\u001b[0m\u001b[0mlaplaciano\u001b[0m\u001b[0;34m(\u001b[0m\u001b[0mdx\u001b[0m\u001b[0;34m,\u001b[0m \u001b[0mN\u001b[0m\u001b[0;34m)\u001b[0m\u001b[0;34m,\u001b[0m \u001b[0;34m(\u001b[0m\u001b[0;34m-\u001b[0m\u001b[0;36m4\u001b[0m\u001b[0;34m*\u001b[0m\u001b[0mpi\u001b[0m\u001b[0;34m/\u001b[0m\u001b[0mk\u001b[0m\u001b[0;34m)\u001b[0m\u001b[0;34m*\u001b[0m\u001b[0mn_3d\u001b[0m\u001b[0;34m)\u001b[0m\u001b[0;34m\u001b[0m\u001b[0;34m\u001b[0m\u001b[0m\n\u001b[0m\u001b[1;32m      7\u001b[0m \u001b[0mV_hartree_temperado\u001b[0m \u001b[0;34m=\u001b[0m \u001b[0;32mlambda\u001b[0m \u001b[0mtempero\u001b[0m\u001b[0;34m,\u001b[0m \u001b[0mV_1\u001b[0m\u001b[0;34m,\u001b[0m \u001b[0mV_3\u001b[0m\u001b[0;34m:\u001b[0m \u001b[0mf\u001b[0m\u001b[0;34m*\u001b[0m\u001b[0mV_1\u001b[0m \u001b[0;34m+\u001b[0m \u001b[0;34m(\u001b[0m\u001b[0;36m1\u001b[0m\u001b[0;34m-\u001b[0m\u001b[0mf\u001b[0m\u001b[0;34m)\u001b[0m\u001b[0;34m*\u001b[0m\u001b[0mV_3\u001b[0m\u001b[0;34m\u001b[0m\u001b[0;34m\u001b[0m\u001b[0m\n\u001b[1;32m      8\u001b[0m \u001b[0mV_total\u001b[0m \u001b[0;34m=\u001b[0m \u001b[0;32mlambda\u001b[0m \u001b[0mV_estrutural\u001b[0m\u001b[0;34m,\u001b[0m \u001b[0mV_interacao\u001b[0m\u001b[0;34m:\u001b[0m \u001b[0mV_estrutural\u001b[0m \u001b[0;34m+\u001b[0m \u001b[0mV_interacao\u001b[0m\u001b[0;34m\u001b[0m\u001b[0;34m\u001b[0m\u001b[0m\n",
      "\u001b[0;32m<__array_function__ internals>\u001b[0m in \u001b[0;36msolve\u001b[0;34m(*args, **kwargs)\u001b[0m\n",
      "\u001b[0;32m~/.local/lib/python3.9/site-packages/numpy/linalg/linalg.py\u001b[0m in \u001b[0;36msolve\u001b[0;34m(a, b)\u001b[0m\n\u001b[1;32m    391\u001b[0m     \u001b[0msignature\u001b[0m \u001b[0;34m=\u001b[0m \u001b[0;34m'DD->D'\u001b[0m \u001b[0;32mif\u001b[0m \u001b[0misComplexType\u001b[0m\u001b[0;34m(\u001b[0m\u001b[0mt\u001b[0m\u001b[0;34m)\u001b[0m \u001b[0;32melse\u001b[0m \u001b[0;34m'dd->d'\u001b[0m\u001b[0;34m\u001b[0m\u001b[0;34m\u001b[0m\u001b[0m\n\u001b[1;32m    392\u001b[0m     \u001b[0mextobj\u001b[0m \u001b[0;34m=\u001b[0m \u001b[0mget_linalg_error_extobj\u001b[0m\u001b[0;34m(\u001b[0m\u001b[0m_raise_linalgerror_singular\u001b[0m\u001b[0;34m)\u001b[0m\u001b[0;34m\u001b[0m\u001b[0;34m\u001b[0m\u001b[0m\n\u001b[0;32m--> 393\u001b[0;31m     \u001b[0mr\u001b[0m \u001b[0;34m=\u001b[0m \u001b[0mgufunc\u001b[0m\u001b[0;34m(\u001b[0m\u001b[0ma\u001b[0m\u001b[0;34m,\u001b[0m \u001b[0mb\u001b[0m\u001b[0;34m,\u001b[0m \u001b[0msignature\u001b[0m\u001b[0;34m=\u001b[0m\u001b[0msignature\u001b[0m\u001b[0;34m,\u001b[0m \u001b[0mextobj\u001b[0m\u001b[0;34m=\u001b[0m\u001b[0mextobj\u001b[0m\u001b[0;34m)\u001b[0m\u001b[0;34m\u001b[0m\u001b[0;34m\u001b[0m\u001b[0m\n\u001b[0m\u001b[1;32m    394\u001b[0m \u001b[0;34m\u001b[0m\u001b[0m\n\u001b[1;32m    395\u001b[0m     \u001b[0;32mreturn\u001b[0m \u001b[0mwrap\u001b[0m\u001b[0;34m(\u001b[0m\u001b[0mr\u001b[0m\u001b[0;34m.\u001b[0m\u001b[0mastype\u001b[0m\u001b[0;34m(\u001b[0m\u001b[0mresult_t\u001b[0m\u001b[0;34m,\u001b[0m \u001b[0mcopy\u001b[0m\u001b[0;34m=\u001b[0m\u001b[0;32mFalse\u001b[0m\u001b[0;34m)\u001b[0m\u001b[0;34m)\u001b[0m\u001b[0;34m\u001b[0m\u001b[0;34m\u001b[0m\u001b[0m\n",
      "\u001b[0;31mValueError\u001b[0m: solve1: Input operand 1 has a mismatch in its core dimension 0, with gufunc signature (m,m),(m)->(m) (size 0 is different from 200)"
     ]
    }
   ],
   "metadata": {}
  },
  {
   "cell_type": "code",
   "execution_count": null,
   "source": [
    "plotEnPsi_finite_diff(x, E0_list, phi_list, 3, 10, V_novo)"
   ],
   "outputs": [],
   "metadata": {}
  },
  {
   "cell_type": "code",
   "execution_count": null,
   "source": [
    "plt.plot(x, V_novo)\n",
    "plt.ylim(0.005,0.018)\n",
    "plt.show()"
   ],
   "outputs": [],
   "metadata": {}
  }
 ],
 "metadata": {
  "orig_nbformat": 4,
  "language_info": {
   "name": "python",
   "version": "3.9.7",
   "mimetype": "text/x-python",
   "codemirror_mode": {
    "name": "ipython",
    "version": 3
   },
   "pygments_lexer": "ipython3",
   "nbconvert_exporter": "python",
   "file_extension": ".py"
  },
  "kernelspec": {
   "name": "python3",
   "display_name": "Python 3.9.7 64-bit"
  },
  "interpreter": {
   "hash": "e7370f93d1d0cde622a1f8e1c04877d8463912d04d973331ad4851f04de6915a"
  }
 },
 "nbformat": 4,
 "nbformat_minor": 2
}