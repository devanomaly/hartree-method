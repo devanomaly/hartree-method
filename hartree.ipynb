{
 "cells": [
  {
   "cell_type": "code",
   "execution_count": 269,
   "metadata": {},
   "outputs": [],
   "source": [
    "from numpy import eye, linalg, arange, sqrt, diag, sin, pi, linspace, heaviside, sum as npsum, multiply, conjugate, real, array, zeros, copy\n",
    "import matplotlib.pyplot as plt"
   ]
  },
  {
   "cell_type": "code",
   "execution_count": 270,
   "metadata": {},
   "outputs": [],
   "source": [
    "# funcaozinha para inserir o range do eixo x, autovalores, autovetores e o numero de energias desejado na visualização; possivel inserir potencial para plotar junto\n",
    "def plotEnPsi_finite_diff(x_values, en, psi, n, scale,ymin,ymax,xmin=0, xmax=800, potential=0):\n",
    "    spot_size=1\n",
    "    plt.scatter(x_values, potential, c=\"C1140\", s=spot_size)\n",
    "    for j in range(n):\n",
    "        plt.hlines(\n",
    "            en[j],\n",
    "            xmin=x_values[0],\n",
    "            xmax=x_values[-1],\n",
    "            colors=\"C\" + str(j),\n",
    "            linestyles=\"--\",\n",
    "        )\n",
    "        plt.scatter(x_values, en[j] + scale * psi[:, j],  c=\"C\" + str(j), s=spot_size)\n",
    "        y_min, y_max = (ymin, ymax)\n",
    "        plt.ylim(y_min, y_max)\n",
    "        x_min, x_max = (xmin, xmax)\n",
    "        plt.xlim(x_min, x_max)\n",
    "    plt.show()"
   ]
  },
  {
   "cell_type": "code",
   "execution_count": null,
   "metadata": {},
   "outputs": [],
   "source": [
    "n_2dmu = []"
   ]
  },
  {
   "cell_type": "code",
   "execution_count": 271,
   "metadata": {},
   "outputs": [],
   "source": [
    "# PARAMETROS DO SISTEMA\n",
    "h_bar=1 #planck reduzida\n",
    "m = 0.067 #massa efetiva para GaAs na eq. de Schrödinger\n",
    "L = 800  # tamanho do sistema\n",
    "Ry = 26 #eV é a unidade de Energia\n",
    "a0 = 0.05 #nm é a unidade de distância\n",
    "h_bar2_m0 = Ry * a0**2\n",
    "e2 = Ry * a0\n",
    "k = 13 #constante dielétrica na eq. de Poisson\n",
    "n2D = 5*10**(-5) #a.u. densidade experimentais\n",
    "\n",
    "# parametros do poco (GaAs)\n",
    "xmin_poco = 0.25 * L #a.u. parede do poço\n",
    "xmax_poco = 0.75 * L #a.u. parede do poço\n",
    "V_0_poco = 1 #a.u. profundidade do poço quadrado\n",
    "\n",
    "# parametros do tempero\n",
    "f = 0.1\n",
    "\n",
    "# parâmetros de convergência\n",
    "epsilon = 0.0001 \n",
    "\n",
    "# # dopagem (0 representa o fundo do poço)\n",
    "# mu = 0.005\n",
    "\n",
    "# DISCRETIZAÇÃO E INTERVALO ABSCISSAS\n",
    "M = 100 # Número para ajustar N <IMPORTANTE>\n",
    "# Mlin = 3*M + 2 #Número para ajustar N <IMPORTANTE>\n",
    "N= 4*M + 3 #Numero de pontos na rede\n",
    "dx = L/(N+1)  # discretização> dx = L/N+1 => N = (L/dx) - 1\n",
    "x = arange(1, N+1)*dx\n",
    "\n",
    "# parametros iniciais no ciclo de autoconsistência\n",
    "V_h_inicial = zeros(N)\n",
    "n_3d_loop = zeros(N)"
   ]
  },
  {
   "cell_type": "code",
   "execution_count": null,
   "metadata": {},
   "outputs": [],
   "source": [
    "mu_x = array([0.1, 0.2, 0.3, 0.4, 0.5, 0.6, 0.7, 0.8, 0.9, 1.0])\n",
    "# dopagem (0 representa o fundo do poço)\n",
    "mu = mu_x[9] # 0, 1, 2, 3, 4, 5, 6, 7, 8, 9\n",
    "\n",
    "# para ver a convergência da energia\n",
    "enrg_inte_1 = []\n",
    "enrg_inte_2 = []"
   ]
  },
  {
   "cell_type": "code",
   "execution_count": 272,
   "metadata": {},
   "outputs": [],
   "source": [
    "# LAPLACIANO 1D DISCRETIZADO\n",
    "laplaciano = lambda dx,N: -(1 / (dx ** 2)) * (2 * eye(N) - eye(N, k=-1) - eye(N, k=1))\n",
    "energia_cinetica = lambda m: -(0.5/m)*laplaciano(dx,N)"
   ]
  },
  {
   "cell_type": "code",
   "execution_count": 273,
   "metadata": {},
   "outputs": [],
   "source": [
    "# DEFINIÇÃO DO POTENCIAL ESTRUTURAL\n",
    "poco_quadrado_finito = (\n",
    "    lambda profundidade, xmin, xmax, x: -profundidade\n",
    "    * heaviside(  # somar profundidade apenas para deixar o fundo do poço = 0\n",
    "        x - xmin, 1\n",
    "    )\n",
    "    * heaviside(xmax - x, 1)\n",
    "    + profundidade\n",
    ")   "
   ]
  },
  {
   "cell_type": "code",
   "execution_count": 274,
   "metadata": {},
   "outputs": [
    {
     "data": {
      "image/png": "[encoded data removed]",
      "text/plain": [
       "<Figure size 432x288 with 1 Axes>"
      ]
     },
     "metadata": {
      "needs_background": "light"
     },
     "output_type": "display_data"
    }
   ],
   "source": [
    "# POTENCIAIS\n",
    "# scale = 2\n",
    "V_poco_quadrado_finito = poco_quadrado_finito(\n",
    "    profundidade=V_0_poco, xmin=xmin_poco, xmax=xmax_poco, x=x\n",
    ")\n",
    "def V_hartree(n_3d, k, dx, N):\n",
    "  L=int(dx*(N+1)) \n",
    "  V_antes = linalg.solve(laplaciano(dx, N), (-4*pi/k)*n_3d)\n",
    "  alpha = (V_antes[int((N-3)/4)] - V_antes[int(((3*N)-1)/4)])/(.5*L)\n",
    "  beta = - V_antes[int((N-3)/4)]\n",
    "  x = arange(1, N+1)*dx\n",
    "  reta_correcao = alpha*(x-(L/4)) + beta\n",
    "  return V_antes + reta_correcao # V_hartree com as bordas sempre em V=0 !! ooo wee\n",
    "  \n",
    "V_hartree_temperado = lambda tempero, V_1, V_3: f*V_3 + (1-f)*V_1\n",
    "V_total = lambda V_estrutural, V_interacao: V_estrutural + V_interacao \n",
    "plt.scatter(x, V_poco_quadrado_finito)\n",
    "plt.xlim(399,401)\n",
    "plt.show()\n"
   ]
  },
  {
   "cell_type": "code",
   "execution_count": 275,
   "metadata": {},
   "outputs": [],
   "source": [
    "# E0_mu (soma de níveis ocupados)\n",
    "E0_mu = lambda mu, E0_list: npsum(E0_list, where=E0_list<mu)\n",
    "# Numero de níveis ocupados \n",
    "N_levels = lambda mu, E0_list: npsum(E0_list<mu)\n",
    "# D.O.L 3D\n",
    "def n_3d(phi_list, E0_list, mu, m): \n",
    "  vectors = array([(m*(mu-E0_list[j])/(2*pi*h_bar**2))*(conjugate(phi_list[j])*phi_list[j]) for j in range(N_levels(mu, E0_list))])\n",
    "  if N_levels(mu, E0_list) > 1:\n",
    "    return npsum(vectors, axis=0)\n",
    "  elif N_levels(mu, E0_list) == 1:\n",
    "    return vectors[0]\n",
    "  return zeros(N)\n",
    "# D.O.L 2D\n",
    "n_2d_params = lambda mu, m, E0_list: [npsum(E0_list<mu)*m/(2*pi*h_bar**2),-E0_mu(mu, E0_list)*m/(2*pi*h_bar**2)] #retorna os coeficientes linear e angular, n_2d_params[0]==a e n_2d_params[1]==b"
   ]
  },
  {
   "cell_type": "code",
   "execution_count": 276,
   "metadata": {},
   "outputs": [],
   "source": [
    "# O HAMILTONIANO\n",
    "H = lambda V_efetivo, m: energia_cinetica(m) + diag(\n",
    "    V_efetivo\n",
    ")"
   ]
  },
  {
   "cell_type": "code",
   "execution_count": 277,
   "metadata": {},
   "outputs": [
    {
     "name": "stdout",
     "output_type": "stream",
     "text": [
      "Numero de niveis ocupados antes do loop 3\n",
      "Energias ocupadas antes do loop [0.00035426 0.00141056 0.00314621]\n",
      "iter= 1\n",
      "Numero de niveis ocupados 3\n",
      "Energias ocupadas [0.00051643 0.00153339 0.00325936]\n",
      "iter= 2\n",
      "Numero de niveis ocupados 3\n",
      "Energias ocupadas [0.00065519 0.0016382  0.00335679]\n",
      "iter= 3\n",
      "Numero de niveis ocupados 3\n",
      "Energias ocupadas [0.00077403 0.00172774 0.00344074]\n",
      "iter= 4\n",
      "Numero de niveis ocupados 3\n",
      "Energias ocupadas [0.00087588 0.00180434 0.00351312]\n",
      "iter= 5\n",
      "Numero de niveis ocupados 3\n",
      "Energias ocupadas [0.00096325 0.00186992 0.00357554]\n",
      "iter= 6\n",
      "Numero de niveis ocupados 3\n",
      "Energias ocupadas [0.00103824 0.00192613 0.0036294 ]\n",
      "iter= 7\n",
      "Numero de niveis ocupados 3\n",
      "Energias ocupadas [0.00110266 0.00197435 0.00367587]\n",
      "iter= 8\n",
      "Numero de niveis ocupados 3\n",
      "Energias ocupadas [0.00115803 0.00201574 0.00371597]\n",
      "iter= 9\n",
      "Numero de niveis ocupados 3\n",
      "Energias ocupadas [0.00120564 0.00205129 0.00375059]\n",
      "iter= 10\n",
      "Numero de niveis ocupados 3\n",
      "Energias ocupadas [0.00124661 0.00208184 0.00378048]\n",
      "iter= 11\n",
      "Numero de niveis ocupados 3\n",
      "Energias ocupadas [0.00128187 0.00210811 0.00380628]\n",
      "iter= 12\n",
      "Numero de niveis ocupados 3\n",
      "Energias ocupadas [0.00131224 0.00213071 0.00382855]\n",
      "iter= 13\n",
      "Numero de niveis ocupados 3\n",
      "Energias ocupadas [0.0013384  0.00215016 0.00384779]\n",
      "iter= 14\n",
      "Numero de niveis ocupados 3\n",
      "Energias ocupadas [0.00136094 0.0021669  0.0038644 ]\n",
      "iter= 15\n",
      "Numero de niveis ocupados 3\n",
      "Energias ocupadas [0.00138037 0.00218131 0.00387874]\n",
      "iter= 16\n",
      "Numero de niveis ocupados 3\n",
      "Energias ocupadas [0.00139713 0.00219373 0.00389112]\n",
      "iter= 17\n",
      "Numero de niveis ocupados 3\n",
      "Energias ocupadas [0.00141158 0.00220442 0.00390182]\n",
      "iter= 18\n",
      "Numero de niveis ocupados 3\n",
      "Energias ocupadas [0.00142404 0.00221364 0.00391105]\n",
      "iter= 19\n",
      "Numero de niveis ocupados 3\n",
      "Energias ocupadas [0.00143479 0.00222158 0.00391903]\n",
      "iter= 20\n",
      "Numero de niveis ocupados 3\n",
      "Energias ocupadas [0.00144407 0.00222842 0.00392592]\n",
      "iter= 21\n",
      "Numero de niveis ocupados 3\n",
      "Energias ocupadas [0.00145208 0.00223432 0.00393186]\n",
      "iter= 22\n",
      "Numero de niveis ocupados 3\n",
      "Energias ocupadas [0.00145899 0.00223941 0.003937  ]\n",
      "iter= 23\n",
      "Numero de niveis ocupados 3\n",
      "Energias ocupadas [0.00146496 0.00224379 0.00394144]\n",
      "iter= 24\n",
      "Numero de niveis ocupados 3\n",
      "Energias ocupadas [0.00147012 0.00224757 0.00394527]\n",
      "iter= 25\n",
      "Numero de niveis ocupados 3\n",
      "Energias ocupadas [0.00147456 0.00225083 0.00394858]\n",
      "iter= 26\n",
      "Numero de niveis ocupados 3\n",
      "Energias ocupadas [0.00147841 0.00225364 0.00395144]\n",
      "iter= 27\n",
      "Numero de niveis ocupados 3\n",
      "Energias ocupadas [0.00148173 0.00225606 0.00395391]\n",
      "iter= 28\n",
      "Numero de niveis ocupados 3\n",
      "Energias ocupadas [0.00148459 0.00225815 0.00395605]\n",
      "iter= 29\n",
      "Numero de niveis ocupados 3\n",
      "Energias ocupadas [0.00148707 0.00225995 0.00395789]\n",
      "iter= 30\n",
      "Numero de niveis ocupados 3\n",
      "Energias ocupadas [0.00148921 0.0022615  0.00395949]\n",
      "iter= 31\n",
      "Numero de niveis ocupados 3\n",
      "Energias ocupadas [0.00149106 0.00226284 0.00396086]\n",
      "iter= 32\n",
      "Numero de niveis ocupados 3\n",
      "Energias ocupadas [0.00149265 0.002264   0.00396205]\n",
      "iter= 33\n",
      "Numero de niveis ocupados 3\n",
      "Energias ocupadas [0.00149403 0.00226499 0.00396308]\n",
      "iter= 34\n",
      "Numero de niveis ocupados 3\n",
      "Energias ocupadas [0.00149523 0.00226585 0.00396397]\n",
      "iter= 35\n",
      "Numero de niveis ocupados 3\n",
      "Energias ocupadas [0.00149626 0.00226659 0.00396473]\n",
      "iter= 36\n",
      "Numero de niveis ocupados 3\n",
      "Energias ocupadas [0.00149715 0.00226723 0.0039654 ]\n",
      "iter= 37\n",
      "Numero de niveis ocupados 3\n",
      "Energias ocupadas [0.00149792 0.00226778 0.00396597]\n",
      "iter= 38\n",
      "Numero de niveis ocupados 3\n",
      "Energias ocupadas [0.00149858 0.00226826 0.00396646]\n",
      "iter= 39\n",
      "Numero de niveis ocupados 3\n",
      "Energias ocupadas [0.00149916 0.00226867 0.00396689]\n",
      "iter= 40\n",
      "Numero de niveis ocupados 3\n",
      "Energias ocupadas [0.00149966 0.00226902 0.00396726]\n",
      "iter= 41\n",
      "Numero de niveis ocupados 3\n",
      "Energias ocupadas [0.00150009 0.00226932 0.00396758]\n",
      "iter= 42\n",
      "Numero de niveis ocupados 3\n",
      "Energias ocupadas [0.00150046 0.00226959 0.00396786]\n",
      "iter= 43\n",
      "Numero de niveis ocupados 3\n",
      "Energias ocupadas [0.00150078 0.00226981 0.0039681 ]\n",
      "iter= 44\n",
      "Numero de niveis ocupados 3\n",
      "Energias ocupadas [0.00150106 0.00227001 0.0039683 ]\n",
      "convergiu!\n"
     ]
    }
   ],
   "source": [
    "# Primeira vez que foi executado o programa:\n",
    "V_1 = V_h_inicial\n",
    "V_3 = V_hartree(n_3d_loop, k, dx, N)\n",
    "V_temperado = V_hartree_temperado(0, V_1, V_3)\n",
    "V_efetivo = V_total(V_poco_quadrado_finito, V_temperado)\n",
    "# acrescentando o potencial \"infinito\" nas bordas \n",
    "# TODO>>> irrelevante?\n",
    "V_efetivo[0] = 1000\n",
    "V_efetivo[-1] = 1000\n",
    "# diagonalização\n",
    "E0_list, phi_list = linalg.eigh(H(V_efetivo,m))\n",
    "N_ocupados = N_levels(mu, E0_list)\n",
    "print(\"Numero de niveis ocupados antes do loop\", N_ocupados)\n",
    "print(\"Energias ocupadas antes do loop\", E0_list[:N_ocupados])\n",
    "\n",
    "# teste de consistência para ver as energias do poço\n",
    "# plotEnPsi_finite_diff(x, E0_list, phi_list, N_ocupados, 0.05,0, 0.02, V_efetivo)\n",
    "\n",
    "n_3d_loop = n_3d(phi_list, E0_list, mu, m)\n",
    "n_2d_loop = n_2d_params(mu, m, E0_list)\n",
    "# print(\"formato n3d antes loop =>\", n_3d_loop.shape)\n",
    "# obtendo energias e estados\n",
    "# E0, phi_list = linalg.eigh(H)\n",
    "\n",
    "# Loop de autoconsistência:\n",
    "convergiu = False\n",
    "cont_inte = []\n",
    "iteracao=1\n",
    "while not convergiu:\n",
    "  print(\"iter=\", iteracao)\n",
    "  cont_inte.append(iteracao) #                       Pegando o cont_inte <------- aqui\n",
    "  V_3 = V_hartree(n_3d_loop, k, dx, N)\n",
    "  V_temperado = V_hartree_temperado(f, V_temperado, V_3)\n",
    "  V_efetivo = V_total(V_poco_quadrado_finito, V_temperado)\n",
    "  # acrescentando o potencial \"infinito\" nas bordas\n",
    "  V_efetivo[0] = 1000\n",
    "  V_efetivo[-1] = 1000\n",
    "  # diagonalização\n",
    "  E0_list, phi_list = linalg.eigh(H(V_efetivo,m))\n",
    "  N_ocupados = N_levels(mu, E0_list)\n",
    "  print(\"Numero de niveis ocupados\",N_ocupados)\n",
    "  print(\"Energias ocupadas\", E0_list[:N_ocupados])\n",
    "  enrg_inte_1.append(E0_list[0]) # Pegando o enrg_inte <------- aqui\n",
    "  enrg_inte_2.append(E0_list[1]) # Pegando o enrg_inte <------- aqui\n",
    "  n_3d_loop_novo = n_3d(phi_list, E0_list, mu, m)\n",
    "  # print(\"n_3d_loop_novo\", n_3d_loop_novo)\n",
    "  # n_3d_loop_novo = n_3d_loop_novo if n_3d_loop_novo.size != N else zeros(N)\n",
    "  n_2d_loop_novo = n_2d_params(mu, m, E0_list)\n",
    "  \n",
    "  # teste convergencia STD!!\n",
    "  if (abs((n_2d_loop_novo[0] - n_2d_loop[0])/n_2d_loop[0])<epsilon) and (abs((n_2d_loop_novo[1] - n_2d_loop[1])/n_2d_loop[1])<epsilon):\n",
    "    # se convergiu\n",
    "    print(\"convergiu!\")\n",
    "    n_2dmu.append(n_2d_loop_novo)\n",
    "    convergiu=True\n",
    "  else:\n",
    "    # se nao convergiu\n",
    "    # print(\"formato V_1 novo\", V_1.shape)\n",
    "    n_2d_loop = copy(n_2d_loop_novo)\n",
    "    n_3d_loop = copy(n_3d_loop_novo)\n",
    "    iteracao+=1"
   ]
  },
  {
   "cell_type": "code",
   "execution_count": 278,
   "metadata": {},
   "outputs": [
    {
     "data": {
      "image/png": "[encoded data removed]",
      "text/plain": [
       "<Figure size 432x288 with 1 Axes>"
      ]
     },
     "metadata": {
      "needs_background": "light"
     },
     "output_type": "display_data"
    }
   ],
   "source": [
    "plotEnPsi_finite_diff(x, E0_list, phi_list, N_ocupados, 0.03, -0.0001, 0.006, 0, 800, V_efetivo)"
   ]
  },
  {
   "cell_type": "code",
   "execution_count": null,
   "metadata": {},
   "outputs": [],
   "source": [
    "cont_inte = array(cont_inte)\n",
    "enrg_inte_1 = array(enrg_inte_1)\n",
    "enrg_inte_2 = array(enrg_inte_2)\n",
    "\n",
    "plt.plot(cont_inte, enrg_inte_1, color='blue')\n",
    "plt.plot(cont_inte, enrg_inte_2, color='red')\n",
    "plt.xlabel(\"interações\")\n",
    "plt.ylabel(\"Energia\")\n",
    "plt.show()"
   ]
  },
  {
   "cell_type": "code",
   "execution_count": null,
   "metadata": {},
   "outputs": [],
   "source": [
    "n_2d_y = []\n",
    "for i in range(len(mu_x)):\n",
    "    f = n_2dmu[i][0]*mu_x[i] + n_2dmu[i][1]\n",
    "    n_2d_y.append(f)\n",
    "n_2d_y = array(n_2d_y)"
   ]
  },
  {
   "cell_type": "code",
   "execution_count": null,
   "metadata": {},
   "outputs": [],
   "source": [
    "plt.scatter(mu_x, -n_2d_y)\n",
    "plt.xlabel(r'$\\mu$')\n",
    "plt.ylabel(r'$n_{2D}$')\n",
    "plt.show()"
   ]
  }
 ],
 "metadata": {
  "interpreter": {
   "hash": "e7370f93d1d0cde622a1f8e1c04877d8463912d04d973331ad4851f04de6915a"
  },
  "kernelspec": {
   "display_name": "Python 3.9.7 64-bit",
   "name": "python3"
  },
  "language_info": {
   "codemirror_mode": {
    "name": "ipython",
    "version": 3
   },
   "file_extension": ".py",
   "mimetype": "text/x-python",
   "name": "python",
   "nbconvert_exporter": "python",
   "pygments_lexer": "ipython3",
   "version": "3.9.7"
  },
  "orig_nbformat": 4
 },
 "nbformat": 4,
 "nbformat_minor": 2
}
